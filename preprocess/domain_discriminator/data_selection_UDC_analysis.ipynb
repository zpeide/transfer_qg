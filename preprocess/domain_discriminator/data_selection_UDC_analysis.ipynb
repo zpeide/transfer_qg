{
 "cells": [
  {
   "cell_type": "code",
   "execution_count": 13,
   "metadata": {},
   "outputs": [],
   "source": [
    "import torch\n",
    "import time\n",
    "from transformers import *\n",
    "import numpy as np\n",
    "import os, json\n",
    "\n",
    "from collections import defaultdict\n",
    "from collections import Counter\n",
    "\n",
    "import numpy as np\n",
    "import matplotlib.pyplot as plt\n",
    "\n",
    "from sklearn import svm, datasets\n",
    "from sklearn.model_selection import train_test_split\n",
    "from sklearn.metrics import confusion_matrix\n",
    "from sklearn.utils.multiclass import unique_labels\n",
    "\n",
    "import matplotlib as mpl\n",
    "import matplotlib.pyplot as plt\n",
    "\n",
    "import numpy as np\n",
    "\n",
    "from sklearn import datasets\n",
    "from sklearn.mixture import GaussianMixture\n",
    "from sklearn.model_selection import StratifiedKFold\n",
    "from sklearn.decomposition import PCA\n",
    "from sklearn.cluster import DBSCAN, OPTICS\n",
    "from sklearn import cluster, mixture\n",
    "# t-sne\n",
    "from sklearn import manifold\n",
    "import sklearn\n",
    "from sklearn.metrics import confusion_matrix\n",
    "from transformers import AutoModel, AutoTokenizer\n",
    "from tqdm import tqdm\n",
    "import random\n",
    "\n",
    "from sklearn.metrics import accuracy_score, precision_recall_fscore_support\n",
    "\n",
    "\n",
    "random.seed(21)\n",
    "np.random.seed(21)\n"
   ]
  },
  {
   "cell_type": "code",
   "execution_count": 14,
   "metadata": {},
   "outputs": [
    {
     "name": "stdout",
     "output_type": "stream",
     "text": [
      "89453 11679 18613\n"
     ]
    }
   ],
   "source": [
    "base_path_new = \"../../data\"\n",
    "\n",
    "file_paths_new = {\n",
    "                'NQ': os.path.join(base_path_new, 'nq/train.jsonl'),\n",
    "                'RACE': os.path.join(base_path_new, 'RACE/train.jsonl'),\n",
    "                # 'SQuAD': os.path.join(base_path_new, 'squad/train.jsonl'),\n",
    "                'SciQ':  os.path.join(base_path_new, 'SciQ/train.jsonl'),\n",
    "            }\n",
    "race_ds = [' '.join(json.loads(_)['text']).lower() for _ in open(file_paths_new['RACE'])]\n",
    "sciq_ds = [' '.join(json.loads(_)['text']).lower() for _ in open(file_paths_new['SciQ'])]\n",
    "dnq_ds = [json.loads(_) for _ in open(file_paths_new['NQ'])]\n",
    "nq_ds = open(file_paths_new['NQ']).readlines()\n",
    "print(len(nq_ds), len(sciq_ds), len(race_ds))\n"
   ]
  },
  {
   "cell_type": "code",
   "execution_count": 15,
   "metadata": {},
   "outputs": [],
   "source": [
    "drace_ds = [json.loads(_) for _ in open(file_paths_new['RACE'])]\n",
    "dsciq_ds = [json.loads(_) for _ in open(file_paths_new['SciQ'])]\n"
   ]
  },
  {
   "cell_type": "code",
   "execution_count": 16,
   "metadata": {},
   "outputs": [],
   "source": [
    "nq_race = torch.load(\"results_NQ-RACE.pt\")"
   ]
  },
  {
   "cell_type": "code",
   "execution_count": 17,
   "metadata": {},
   "outputs": [
    {
     "data": {
      "text/plain": [
       "dict_keys(['avg', 'cls', 'all', 'idx_for_clustering', 'num_samples_for_clustering'])"
      ]
     },
     "execution_count": 17,
     "metadata": {},
     "output_type": "execute_result"
    }
   ],
   "source": [
    "nq_race.keys()"
   ]
  },
  {
   "cell_type": "code",
   "execution_count": 6,
   "metadata": {},
   "outputs": [
    {
     "data": {
      "text/plain": [
       "dict_keys(['centers', 'cluster_metrics', 'metrics', 'distances', 'corpus_idx', 'cluster_label_map'])"
      ]
     },
     "execution_count": 6,
     "metadata": {},
     "output_type": "execute_result"
    }
   ],
   "source": [
    "nq_race['all']['kmeans'].keys()"
   ]
  },
  {
   "cell_type": "code",
   "execution_count": 7,
   "metadata": {},
   "outputs": [
    {
     "name": "stdout",
     "output_type": "stream",
     "text": [
      "{'NQ': 0, 'RACE': 89453}\n"
     ]
    }
   ],
   "source": [
    "print(nq_race['all']['kmeans']['corpus_idx'])"
   ]
  },
  {
   "cell_type": "code",
   "execution_count": 8,
   "metadata": {},
   "outputs": [
    {
     "data": {
      "text/plain": [
       "{0: 'NQ', 1: 'RACE'}"
      ]
     },
     "execution_count": 8,
     "metadata": {},
     "output_type": "execute_result"
    }
   ],
   "source": [
    "nq_race['all']['kmeans']['cluster_label_map']"
   ]
  },
  {
   "cell_type": "code",
   "execution_count": 18,
   "metadata": {},
   "outputs": [],
   "source": [
    "label_id_map = { v:k for k, v in nq_race['avg']['kmeans']['cluster_label_map'].items() }"
   ]
  },
  {
   "cell_type": "code",
   "execution_count": 19,
   "metadata": {},
   "outputs": [
    {
     "name": "stdout",
     "output_type": "stream",
     "text": [
      "{'RACE': 0, 'NQ': 1} 0 1\n"
     ]
    }
   ],
   "source": [
    "race_label_id = label_id_map['RACE']\n",
    "nq_label_id = label_id_map['NQ']\n",
    "print(label_id_map, race_label_id, nq_label_id)"
   ]
  },
  {
   "cell_type": "code",
   "execution_count": 25,
   "metadata": {},
   "outputs": [],
   "source": [
    "# method_used = 'all'\n",
    "method_used = 'avg'"
   ]
  },
  {
   "cell_type": "code",
   "execution_count": 26,
   "metadata": {},
   "outputs": [],
   "source": [
    "nq_nq_kmeans_dis = nq_race[method_used]['kmeans']['distances'][:89453, nq_label_id]\n",
    "nq_race_kmeans_dis = nq_race[method_used]['kmeans']['distances'][:89453, race_label_id]\n"
   ]
  },
  {
   "cell_type": "code",
   "execution_count": 28,
   "metadata": {},
   "outputs": [
    {
     "data": {
      "image/png": "[encoded data removed]",
      "text/plain": [
       "<Figure size 432x288 with 1 Axes>"
      ]
     },
     "metadata": {
      "needs_background": "light"
     },
     "output_type": "display_data"
    }
   ],
   "source": [
    "plt.hist(nq_nq_kmeans_dis, alpha=0.6, label='NQ-NQ', color='g')\n",
    "plt.hist(nq_race_kmeans_dis, alpha=0.3, label='NQ-RACE', color='blue')\n",
    "plt.legend()\n",
    "plt.tight_layout()\n",
    "plt.savefig(\"NQ-RACE-Distance-Distribution.pdf\", dpi=600, bbox_inches='tight')\n",
    "plt.show()"
   ]
  },
  {
   "cell_type": "code",
   "execution_count": 81,
   "metadata": {},
   "outputs": [
    {
     "name": "stdout",
     "output_type": "stream",
     "text": [
      "[CLS] To expand the number of women smokers Hill decided to hire Edward Bernays, who today is known as the father of public relations, to help him recruit women smokers. Bernays decided to attempt to eliminate the social taboo against women smoking in public. He gained advice from psychoanalyst A. A. Brill, who stated that it was normal for women to smoke because of oral fixation and said, ` ` Today the emancipation of women has suppressed many of their feminine desires. More women now do the same work as men do. Many women bear no children ; those who do bear have fewer children. Feminine traits are masked. Cigarettes, which are equated with men, become torches of freedom.'' In 1929 Bernays decided to pay women to smoke their ` ` torches of freedom'' as they walked in the Easter Sunday Parade in New York. This was a shock because until that time, women were only permitted to smoke in certain places such as in the privacy of their own homes. He was very careful when picking women to march because ` ` while they should be good looking, they should not look too model - y'' and he hired his own photographers to make sure that good pictures were taken and then published around the world. Feminist Ruth Hale also called for women to join in the march saying, ` ` Women! Light another torch of freedom! Fight another sex taboo!'' Once the footage was released, the campaign was being talked about everywhere, the women's walk was seen as a protest for equality and sparked discussion throughout the nation and is still known today. The targeting of women in tobacco advertising led to higher rates of smoking among women. In 1923 women only purchased 5 % of cigarettes sold, in 1929 that percentage increased to 12 %, in 1935 to 18. 1 %, peaking in 1965 at 33. 3 %, and remaining at this level until 1977. [SEP] Edward Bernays [SEP]\n"
     ]
    }
   ],
   "source": [
    "print(dnq_ds[np.argsort(nq_race_kmeans_dis)[0]]['src'])"
   ]
  },
  {
   "cell_type": "code",
   "execution_count": 27,
   "metadata": {},
   "outputs": [],
   "source": [
    "race_race_kmeans_dis = nq_race[method_used]['kmeans']['distances'][89453:, race_label_id]\n",
    "race_nq_kmeans_dis = nq_race[method_used]['kmeans']['distances'][89453:, nq_label_id]"
   ]
  },
  {
   "cell_type": "code",
   "execution_count": 83,
   "metadata": {},
   "outputs": [
    {
     "data": {
      "image/png": "[encoded data removed]",
      "text/plain": [
       "<Figure size 432x288 with 1 Axes>"
      ]
     },
     "metadata": {
      "needs_background": "light"
     },
     "output_type": "display_data"
    }
   ],
   "source": [
    "plt.hist(race_race_kmeans_dis, alpha=0.6, label='RACE-RACE', color='g')\n",
    "plt.hist(race_nq_kmeans_dis , alpha=0.3, label='RACE-NQ', color='blue')\n",
    "plt.legend()\n",
    "plt.tight_layout()\n",
    "plt.savefig(\"RACE-NQ-Distance-Distribution.pdf\", dpi=600, bbox_inches='tight')\n",
    "plt.show()"
   ]
  },
  {
   "cell_type": "code",
   "execution_count": null,
   "metadata": {},
   "outputs": [],
   "source": []
  },
  {
   "cell_type": "code",
   "execution_count": 29,
   "metadata": {},
   "outputs": [],
   "source": [
    "nq_race_center_cosine_distance = nq_race[method_used]['gmm']['other_center_cosine_distance'][:89453]\n",
    "nq_race_center_l2_distance = nq_race[method_used]['gmm']['other_center_l2_distance'][:89453]"
   ]
  },
  {
   "cell_type": "code",
   "execution_count": 30,
   "metadata": {},
   "outputs": [],
   "source": [
    "nq_nq_center_cosine_distance = nq_race[method_used]['gmm']['nq_center_cosine_distance'][:89453]\n",
    "nq_nq_center_l2_distance = nq_race[method_used]['gmm']['nq_center_l2_distance'][:89453]"
   ]
  },
  {
   "cell_type": "code",
   "execution_count": 31,
   "metadata": {},
   "outputs": [
    {
     "data": {
      "image/png": "[encoded data removed]",
      "text/plain": [
       "<Figure size 432x288 with 1 Axes>"
      ]
     },
     "metadata": {
      "needs_background": "light"
     },
     "output_type": "display_data"
    }
   ],
   "source": [
    "plt.hist(nq_race_center_cosine_distance, alpha=0.6, label='NQ-RACE', color='g')\n",
    "plt.hist(nq_nq_center_cosine_distance , alpha=0.3, label='NQ-NQ', color='blue')\n",
    "plt.legend()\n",
    "plt.tight_layout()\n",
    "plt.savefig(\"NQ-RACE-Center-Cosine-Distance-Distribution.pdf\", dpi=600, bbox_inches='tight')\n",
    "plt.show()"
   ]
  },
  {
   "cell_type": "code",
   "execution_count": 32,
   "metadata": {},
   "outputs": [
    {
     "data": {
      "image/png": "[encoded data removed]",
      "text/plain": [
       "<Figure size 432x288 with 1 Axes>"
      ]
     },
     "metadata": {
      "needs_background": "light"
     },
     "output_type": "display_data"
    }
   ],
   "source": [
    "plt.hist(nq_race_center_l2_distance, alpha=0.6, label='NQ-RACE', color='g')\n",
    "plt.hist(nq_nq_center_l2_distance , alpha=0.3, label='NQ-NQ', color='blue')\n",
    "plt.legend()\n",
    "plt.tight_layout()\n",
    "plt.savefig(\"NQ-RACE-Center-l2-Distance-Distribution.pdf\", dpi=600, bbox_inches='tight')\n",
    "plt.show()"
   ]
  },
  {
   "cell_type": "code",
   "execution_count": 33,
   "metadata": {},
   "outputs": [],
   "source": [
    "nq_nq_center_jensenshannon_distance = nq_race['avg']['gmm']['nq_center_jensenshannon_distance'][:89453]\n",
    "nq_race_center_jensenshannon_distance = nq_race['avg']['gmm']['nq_center_jensenshannon_distance'][89453:]"
   ]
  },
  {
   "cell_type": "code",
   "execution_count": 34,
   "metadata": {},
   "outputs": [
    {
     "data": {
      "text/plain": [
       "dict_keys(['means', 'covar', 'cluster_metrics', 'metrics', 'proba', 'llscores', 'corpus_idx', 'cluster_label_map', 'cosine_metrics', 'nq_center_cosine_distance', 'other_center_cosine_distance', 'nq_center_l2_distance', 'other_center_l2_distance', 'nq_center_jensenshannon_distance', 'other_center_jensenshannon_distance'])"
      ]
     },
     "execution_count": 34,
     "metadata": {},
     "output_type": "execute_result"
    }
   ],
   "source": [
    "nq_race['avg']['gmm'].keys()"
   ]
  },
  {
   "cell_type": "code",
   "execution_count": 35,
   "metadata": {},
   "outputs": [],
   "source": [
    "nq_race_l2_gmm_sorted_idx = np.argsort(nq_race_center_l2_distance)"
   ]
  },
  {
   "cell_type": "code",
   "execution_count": 37,
   "metadata": {},
   "outputs": [],
   "source": [
    "for i in range(0, 10000, 1000):\n",
    "    e = min(i+1000, len(nq_ds))\n",
    "    f = open(f\"../../data/nq/race_gmm_l2_order/{e}.jsonl\", \"w\")\n",
    "    for j in range(0, e):\n",
    "        line = nq_ds[nq_race_l2_gmm_sorted_idx[j]]\n",
    "        item = json.loads(line)\n",
    "        item['race_dis'] =  nq_race_center_l2_distance[nq_race_l2_gmm_sorted_idx[j]]\n",
    "        f.write(json.dumps(item))\n",
    "        f.write('\\n')\n",
    "    f.close()\n"
   ]
  },
  {
   "cell_type": "code",
   "execution_count": 66,
   "metadata": {},
   "outputs": [],
   "source": [
    "# sort NQ according to the distance to the target domain, far->near\n",
    "nq_race_sorted_idx = np.argsort( nq_race_kmeans_dis )[::-1]"
   ]
  },
  {
   "cell_type": "code",
   "execution_count": 67,
   "metadata": {},
   "outputs": [
    {
     "data": {
      "text/plain": [
       "array([2.41633021, 2.40410047, 2.2399957 ])"
      ]
     },
     "execution_count": 67,
     "metadata": {},
     "output_type": "execute_result"
    }
   ],
   "source": [
    "nq_race_kmeans_dis[nq_race_sorted_idx[-3:]]"
   ]
  },
  {
   "cell_type": "code",
   "execution_count": 68,
   "metadata": {},
   "outputs": [],
   "source": [
    "nq_race_sorted_ds = [nq_ds[_] for _ in nq_race_sorted_idx ]"
   ]
  },
  {
   "cell_type": "code",
   "execution_count": 70,
   "metadata": {},
   "outputs": [],
   "source": [
    "f = open(\"../../data/nq/race_order/race_dis_ordered.jsonl\", \"w\")\n",
    "for i, line in enumerate(nq_race_sorted_ds):\n",
    "    item = json.loads(line)\n",
    "    item['race_dis'] = nq_race_kmeans_dis[nq_race_sorted_idx[i]]\n",
    "    f.write(json.dumps(item))\n",
    "    f.write('\\n')\n",
    "f.close()"
   ]
  },
  {
   "cell_type": "code",
   "execution_count": 69,
   "metadata": {},
   "outputs": [
    {
     "name": "stdout",
     "output_type": "stream",
     "text": [
      "89453 89453\n"
     ]
    }
   ],
   "source": [
    "print(len(nq_ds), len(nq_race_sorted_idx))"
   ]
  },
  {
   "cell_type": "code",
   "execution_count": 71,
   "metadata": {},
   "outputs": [],
   "source": [
    "nq_race_ordered_idx = nq_race_sorted_idx[::-1]\n",
    "for i in range(0, 10000, 1000):\n",
    "    e = min(i+1000, len(nq_ds))\n",
    "    f = open(f\"../../data/nq/race_order/{e}.jsonl\", \"w\")\n",
    "    for j in range(0, e):\n",
    "        line = nq_ds[nq_race_ordered_idx[j]]\n",
    "        item = json.loads(line)\n",
    "        item['race_dis'] = nq_race_kmeans_dis[nq_race_ordered_idx[j]]\n",
    "        f.write(json.dumps(item))\n",
    "        f.write('\\n')\n",
    "    f.close()"
   ]
  },
  {
   "cell_type": "code",
   "execution_count": 93,
   "metadata": {},
   "outputs": [],
   "source": [
    "random_idx = np.arange(len(nq_ds))\n",
    "np.random.shuffle(random_idx)\n",
    "for i in range(0, 10000, 1000):\n",
    "    e = min(i+1000, len(nq_ds))\n",
    "    f = open(f\"../../data/nq/random/{e}.jsonl\", \"w\")\n",
    "    for j in range(0, e):\n",
    "        line = nq_ds[random_idx[j]]\n",
    "        item = json.loads(line)\n",
    "        item['race_dis'] = nq_race_kmeans_dis[nq_race_ordered_idx[j]]\n",
    "        f.write(json.dumps(item))\n",
    "        f.write('\\n')\n",
    "    f.close()"
   ]
  },
  {
   "cell_type": "code",
   "execution_count": null,
   "metadata": {},
   "outputs": [],
   "source": [
    "# sample item for BERT Training.\n",
    "nq_nq_center_l2_distance"
   ]
  },
  {
   "cell_type": "code",
   "execution_count": 72,
   "metadata": {},
   "outputs": [],
   "source": [
    "race_nq_dis_diff = nq_nq_kmeans_dis - nq_race_kmeans_dis "
   ]
  },
  {
   "cell_type": "code",
   "execution_count": 73,
   "metadata": {},
   "outputs": [
    {
     "data": {
      "text/plain": [
       "(7312,)"
      ]
     },
     "execution_count": 73,
     "metadata": {},
     "output_type": "execute_result"
    }
   ],
   "source": [
    "np.where(race_nq_dis_diff > 0)[0].shape"
   ]
  },
  {
   "cell_type": "code",
   "execution_count": 28,
   "metadata": {},
   "outputs": [],
   "source": [
    "sorted_race_nq_dis_diff_idx = np.argsort(race_nq_dis_diff)[::-1]"
   ]
  },
  {
   "cell_type": "code",
   "execution_count": 31,
   "metadata": {},
   "outputs": [
    {
     "data": {
      "text/plain": [
       "3.3595971319721594"
      ]
     },
     "execution_count": 31,
     "metadata": {},
     "output_type": "execute_result"
    }
   ],
   "source": [
    "nq_race_kmeans_dis[sorted_race_nq_dis_diff_idx[0]]"
   ]
  },
  {
   "cell_type": "code",
   "execution_count": 29,
   "metadata": {},
   "outputs": [
    {
     "data": {
      "text/plain": [
       "'[CLS] It takes a village to raise a child is a proverb which means that it takes an entire community of different people interacting with children in order for children to experience and grow in a safe environment. The villages would look out for the children. This does not mean an entire village is responsible for raising your children. [SEP] it takes an entire community of different people interacting with children in order for children to experience and grow in a safe environment [SEP]'"
      ]
     },
     "execution_count": 29,
     "metadata": {},
     "output_type": "execute_result"
    }
   ],
   "source": [
    "dnq_ds[sorted_race_nq_dis_diff_idx[0]]['src']"
   ]
  },
  {
   "cell_type": "code",
   "execution_count": 65,
   "metadata": {},
   "outputs": [],
   "source": [
    "for i in range(0, 10000, 1000):\n",
    "    e = min(i+1000, len(nq_ds))\n",
    "    f = open(f\"../../data/nq/race_nq_dis_diff/{e}.jsonl\", \"w\")\n",
    "    for j in range(0, e):\n",
    "        line = nq_ds[sorted_race_nq_dis_diff_idx[j]]\n",
    "        item = json.loads(line)\n",
    "        item['race_dis'] = nq_race_kmeans_dis[nq_race_ordered_idx[j]]\n",
    "        f.write(json.dumps(item))\n",
    "        f.write('\\n')\n",
    "    f.close()"
   ]
  },
  {
   "cell_type": "code",
   "execution_count": 32,
   "metadata": {},
   "outputs": [],
   "source": [
    "nq_mis_race_idx = np.where(race_nq_dis_diff > 0)[0]\n",
    "sorted_nq_mis_race_idx = np.argsort( nq_race_kmeans_dis[nq_mis_race_idx] )\n"
   ]
  },
  {
   "cell_type": "code",
   "execution_count": 33,
   "metadata": {},
   "outputs": [
    {
     "data": {
      "text/plain": [
       "\"[CLS] To expand the number of women smokers Hill decided to hire Edward Bernays, who today is known as the father of public relations, to help him recruit women smokers. Bernays decided to attempt to eliminate the social taboo against women smoking in public. He gained advice from psychoanalyst A. A. Brill, who stated that it was normal for women to smoke because of oral fixation and said, ` ` Today the emancipation of women has suppressed many of their feminine desires. More women now do the same work as men do. Many women bear no children ; those who do bear have fewer children. Feminine traits are masked. Cigarettes, which are equated with men, become torches of freedom.'' In 1929 Bernays decided to pay women to smoke their ` ` torches of freedom'' as they walked in the Easter Sunday Parade in New York. This was a shock because until that time, women were only permitted to smoke in certain places such as in the privacy of their own homes. He was very careful when picking women to march because ` ` while they should be good looking, they should not look too model - y'' and he hired his own photographers to make sure that good pictures were taken and then published around the world. Feminist Ruth Hale also called for women to join in the march saying, ` ` Women! Light another torch of freedom! Fight another sex taboo!'' Once the footage was released, the campaign was being talked about everywhere, the women's walk was seen as a protest for equality and sparked discussion throughout the nation and is still known today. The targeting of women in tobacco advertising led to higher rates of smoking among women. In 1923 women only purchased 5 % of cigarettes sold, in 1929 that percentage increased to 12 %, in 1935 to 18. 1 %, peaking in 1965 at 33. 3 %, and remaining at this level until 1977. [SEP] Edward Bernays [SEP]\""
      ]
     },
     "execution_count": 33,
     "metadata": {},
     "output_type": "execute_result"
    }
   ],
   "source": [
    "json.loads(nq_ds[nq_mis_race_idx[sorted_nq_mis_race_idx[0]]])['src']"
   ]
  },
  {
   "cell_type": "code",
   "execution_count": 32,
   "metadata": {},
   "outputs": [],
   "source": [
    "for i in range(0, 10000, 1000):\n",
    "    e = min(i+1000, len(sorted_nq_mis_race_idx))\n",
    "    f = open(f\"../../data/nq/race_mis_nq/{e}.jsonl\", \"w\")\n",
    "    for j in range(0, e):\n",
    "        idx = nq_mis_race_idx[sorted_nq_mis_race_idx[j]]\n",
    "        line = nq_ds[idx]\n",
    "        item = json.loads(line)\n",
    "        item['race_dis'] = nq_race_kmeans_dis[idx]\n",
    "        f.write(json.dumps(item))\n",
    "        f.write('\\n')\n",
    "    f.close()"
   ]
  },
  {
   "cell_type": "code",
   "execution_count": 94,
   "metadata": {},
   "outputs": [
    {
     "name": "stdout",
     "output_type": "stream",
     "text": [
      "{'RACE': 0, 'NQ': 1} 0 1\n"
     ]
    }
   ],
   "source": [
    "gmm_label_id_map = { v:k for k, v in nq_race[method_used]['gmm']['cluster_label_map'].items() }\n",
    "race_label_id = label_id_map['RACE']\n",
    "nq_label_id = label_id_map['NQ']\n",
    "print(label_id_map, race_label_id, nq_label_id)"
   ]
  },
  {
   "cell_type": "code",
   "execution_count": 95,
   "metadata": {},
   "outputs": [],
   "source": [
    "race_race_gmm_prob = nq_race[method_used]['gmm']['proba'][89453:, race_label_id]\n",
    "race_nq_gmm_prob = nq_race[method_used]['gmm']['proba'][89453:, nq_label_id]"
   ]
  },
  {
   "cell_type": "code",
   "execution_count": 96,
   "metadata": {},
   "outputs": [],
   "source": [
    "nq_race_gmm_prob = nq_race[method_used]['gmm']['proba'][:89453, race_label_id]\n",
    "nq_nq_gmm_prob = nq_race[method_used]['gmm']['proba'][:89453, nq_label_id]"
   ]
  },
  {
   "cell_type": "code",
   "execution_count": 49,
   "metadata": {},
   "outputs": [
    {
     "data": {
      "text/plain": [
       "1.0"
      ]
     },
     "execution_count": 49,
     "metadata": {},
     "output_type": "execute_result"
    }
   ],
   "source": [
    "np.sort(nq_race_gmm_prob)[-2000]"
   ]
  },
  {
   "cell_type": "code",
   "execution_count": 50,
   "metadata": {},
   "outputs": [
    {
     "data": {
      "image/png": "[encoded data removed]",
      "image/svg+xml": "<?xml version=\"1.0\" encoding=\"utf-8\" standalone=\"no\"?>\n<!DOCTYPE svg PUBLIC \"-//W3C//DTD SVG 1.1//EN\"\n  \"http://www.w3.org/Graphics/SVG/1.1/DTD/svg11.dtd\">\n<svg height=\"280.478125pt\" version=\"1.1\" viewBox=\"0 0 425.2375 280.478125\" width=\"425.2375pt\" xmlns=\"http://www.w3.org/2000/svg\" xmlns:xlink=\"http://www.w3.org/1999/xlink\">\n <metadata>\n  <rdf:RDF xmlns:cc=\"http://creativecommons.org/ns#\" xmlns:dc=\"http://purl.org/dc/elements/1.1/\" xmlns:rdf=\"http://www.w3.org/1999/02/22-rdf-syntax-ns#\">\n   <cc:Work>\n    <dc:type rdf:resource=\"http://purl.org/dc/dcmitype/StillImage\"/>\n    <dc:date>2021-09-26T23:14:19.190685</dc:date>\n    <dc:format>image/svg+xml</dc:format>\n    <dc:creator>\n     <cc:Agent>\n      <dc:title>Matplotlib v3.4.0, https://matplotlib.org/</dc:title>\n     </cc:Agent>\n    </dc:creator>\n   </cc:Work>\n  </rdf:RDF>\n </metadata>\n <defs>\n  <style type=\"text/css\">*{stroke-linecap:butt;stroke-linejoin:round;}</style>\n </defs>\n <g id=\"figure_1\">\n  <g id=\"patch_1\">\n   <path d=\"M 0 280.478125 \nL 425.2375 280.478125 \nL 425.2375 0 \nL 0 0 \nz\n\" style=\"fill:none;\"/>\n  </g>\n  <g id=\"axes_1\">\n   <g id=\"patch_2\">\n    <path d=\"M 46.0125 256.6 \nL 418.0375 256.6 \nL 418.0375 7.2 \nL 46.0125 7.2 \nz\n\" style=\"fill:#ffffff;\"/>\n   </g>\n   <g id=\"patch_3\">\n    <path clip-path=\"url(#p9021eb785d)\" d=\"M 62.922727 256.6 \nL 96.743182 256.6 \nL 96.743182 19.07619 \nL 62.922727 19.07619 \nz\n\" style=\"fill:#008000;opacity:0.6;\"/>\n   </g>\n   <g id=\"patch_4\">\n    <path clip-path=\"url(#p9021eb785d)\" d=\"M 96.743182 256.6 \nL 130.563636 256.6 \nL 130.563636 256.330252 \nL 96.743182 256.330252 \nz\n\" style=\"fill:#008000;opacity:0.6;\"/>\n   </g>\n   <g id=\"patch_5\">\n    <path clip-path=\"url(#p9021eb785d)\" d=\"M 130.563636 256.6 \nL 164.384091 256.6 \nL 164.384091 256.438151 \nL 130.563636 256.438151 \nz\n\" style=\"fill:#008000;opacity:0.6;\"/>\n   </g>\n   <g id=\"patch_6\">\n    <path clip-path=\"url(#p9021eb785d)\" d=\"M 164.384091 256.6 \nL 198.204545 256.6 \nL 198.204545 256.473218 \nL 164.384091 256.473218 \nz\n\" style=\"fill:#008000;opacity:0.6;\"/>\n   </g>\n   <g id=\"patch_7\">\n    <path clip-path=\"url(#p9021eb785d)\" d=\"M 198.204545 256.6 \nL 232.025 256.6 \nL 232.025 256.478613 \nL 198.204545 256.478613 \nz\n\" style=\"fill:#008000;opacity:0.6;\"/>\n   </g>\n   <g id=\"patch_8\">\n    <path clip-path=\"url(#p9021eb785d)\" d=\"M 232.025 256.6 \nL 265.845455 256.6 \nL 265.845455 256.497496 \nL 232.025 256.497496 \nz\n\" style=\"fill:#008000;opacity:0.6;\"/>\n   </g>\n   <g id=\"patch_9\">\n    <path clip-path=\"url(#p9021eb785d)\" d=\"M 265.845455 256.6 \nL 299.665909 256.6 \nL 299.665909 256.467824 \nL 265.845455 256.467824 \nz\n\" style=\"fill:#008000;opacity:0.6;\"/>\n   </g>\n   <g id=\"patch_10\">\n    <path clip-path=\"url(#p9021eb785d)\" d=\"M 299.665909 256.6 \nL 333.486364 256.6 \nL 333.486364 256.457034 \nL 299.665909 256.457034 \nz\n\" style=\"fill:#008000;opacity:0.6;\"/>\n   </g>\n   <g id=\"patch_11\">\n    <path clip-path=\"url(#p9021eb785d)\" d=\"M 333.486364 256.6 \nL 367.306818 256.6 \nL 367.306818 256.373412 \nL 333.486364 256.373412 \nz\n\" style=\"fill:#008000;opacity:0.6;\"/>\n   </g>\n   <g id=\"patch_12\">\n    <path clip-path=\"url(#p9021eb785d)\" d=\"M 367.306818 256.6 \nL 401.127273 256.6 \nL 401.127273 254.110227 \nL 367.306818 254.110227 \nz\n\" style=\"fill:#008000;opacity:0.6;\"/>\n   </g>\n   <g id=\"patch_13\">\n    <path clip-path=\"url(#p9021eb785d)\" d=\"M 62.922727 256.6 \nL 96.743182 256.6 \nL 96.743182 254.110227 \nL 62.922727 254.110227 \nz\n\" style=\"fill:#0000ff;opacity:0.3;\"/>\n   </g>\n   <g id=\"patch_14\">\n    <path clip-path=\"url(#p9021eb785d)\" d=\"M 96.743182 256.6 \nL 130.563636 256.6 \nL 130.563636 256.373412 \nL 96.743182 256.373412 \nz\n\" style=\"fill:#0000ff;opacity:0.3;\"/>\n   </g>\n   <g id=\"patch_15\">\n    <path clip-path=\"url(#p9021eb785d)\" d=\"M 130.563636 256.6 \nL 164.384091 256.6 \nL 164.384091 256.457034 \nL 130.563636 256.457034 \nz\n\" style=\"fill:#0000ff;opacity:0.3;\"/>\n   </g>\n   <g id=\"patch_16\">\n    <path clip-path=\"url(#p9021eb785d)\" d=\"M 164.384091 256.6 \nL 198.204545 256.6 \nL 198.204545 256.467824 \nL 164.384091 256.467824 \nz\n\" style=\"fill:#0000ff;opacity:0.3;\"/>\n   </g>\n   <g id=\"patch_17\">\n    <path clip-path=\"url(#p9021eb785d)\" d=\"M 198.204545 256.6 \nL 232.025 256.6 \nL 232.025 256.497496 \nL 198.204545 256.497496 \nz\n\" style=\"fill:#0000ff;opacity:0.3;\"/>\n   </g>\n   <g id=\"patch_18\">\n    <path clip-path=\"url(#p9021eb785d)\" d=\"M 232.025 256.6 \nL 265.845455 256.6 \nL 265.845455 256.478613 \nL 232.025 256.478613 \nz\n\" style=\"fill:#0000ff;opacity:0.3;\"/>\n   </g>\n   <g id=\"patch_19\">\n    <path clip-path=\"url(#p9021eb785d)\" d=\"M 265.845455 256.6 \nL 299.665909 256.6 \nL 299.665909 256.473218 \nL 265.845455 256.473218 \nz\n\" style=\"fill:#0000ff;opacity:0.3;\"/>\n   </g>\n   <g id=\"patch_20\">\n    <path clip-path=\"url(#p9021eb785d)\" d=\"M 299.665909 256.6 \nL 333.486364 256.6 \nL 333.486364 256.438151 \nL 299.665909 256.438151 \nz\n\" style=\"fill:#0000ff;opacity:0.3;\"/>\n   </g>\n   <g id=\"patch_21\">\n    <path clip-path=\"url(#p9021eb785d)\" d=\"M 333.486364 256.6 \nL 367.306818 256.6 \nL 367.306818 256.330252 \nL 333.486364 256.330252 \nz\n\" style=\"fill:#0000ff;opacity:0.3;\"/>\n   </g>\n   <g id=\"patch_22\">\n    <path clip-path=\"url(#p9021eb785d)\" d=\"M 367.306818 256.6 \nL 401.127273 256.6 \nL 401.127273 19.07619 \nL 367.306818 19.07619 \nz\n\" style=\"fill:#0000ff;opacity:0.3;\"/>\n   </g>\n   <g id=\"matplotlib.axis_1\">\n    <g id=\"xtick_1\">\n     <g id=\"line2d_1\">\n      <defs>\n       <path d=\"M 0 0 \nL 0 3.5 \n\" id=\"m5f29f14cae\" style=\"stroke:#000000;stroke-width:0.8;\"/>\n      </defs>\n      <g>\n       <use style=\"stroke:#000000;stroke-width:0.8;\" x=\"62.922727\" xlink:href=\"#m5f29f14cae\" y=\"256.6\"/>\n      </g>\n     </g>\n     <g id=\"text_1\">\n      <!-- 0.0 -->\n      <g transform=\"translate(54.971165 271.198437)scale(0.1 -0.1)\">\n       <defs>\n        <path d=\"M 2034 4250 \nQ 1547 4250 1301 3770 \nQ 1056 3291 1056 2328 \nQ 1056 1369 1301 889 \nQ 1547 409 2034 409 \nQ 2525 409 2770 889 \nQ 3016 1369 3016 2328 \nQ 3016 3291 2770 3770 \nQ 2525 4250 2034 4250 \nz\nM 2034 4750 \nQ 2819 4750 3233 4129 \nQ 3647 3509 3647 2328 \nQ 3647 1150 3233 529 \nQ 2819 -91 2034 -91 \nQ 1250 -91 836 529 \nQ 422 1150 422 2328 \nQ 422 3509 836 4129 \nQ 1250 4750 2034 4750 \nz\n\" id=\"DejaVuSans-30\" transform=\"scale(0.015625)\"/>\n        <path d=\"M 684 794 \nL 1344 794 \nL 1344 0 \nL 684 0 \nL 684 794 \nz\n\" id=\"DejaVuSans-2e\" transform=\"scale(0.015625)\"/>\n       </defs>\n       <use xlink:href=\"#DejaVuSans-30\"/>\n       <use x=\"63.623047\" xlink:href=\"#DejaVuSans-2e\"/>\n       <use x=\"95.410156\" xlink:href=\"#DejaVuSans-30\"/>\n      </g>\n     </g>\n    </g>\n    <g id=\"xtick_2\">\n     <g id=\"line2d_2\">\n      <g>\n       <use style=\"stroke:#000000;stroke-width:0.8;\" x=\"130.563636\" xlink:href=\"#m5f29f14cae\" y=\"256.6\"/>\n      </g>\n     </g>\n     <g id=\"text_2\">\n      <!-- 0.2 -->\n      <g transform=\"translate(122.612074 271.198437)scale(0.1 -0.1)\">\n       <defs>\n        <path d=\"M 1228 531 \nL 3431 531 \nL 3431 0 \nL 469 0 \nL 469 531 \nQ 828 903 1448 1529 \nQ 2069 2156 2228 2338 \nQ 2531 2678 2651 2914 \nQ 2772 3150 2772 3378 \nQ 2772 3750 2511 3984 \nQ 2250 4219 1831 4219 \nQ 1534 4219 1204 4116 \nQ 875 4013 500 3803 \nL 500 4441 \nQ 881 4594 1212 4672 \nQ 1544 4750 1819 4750 \nQ 2544 4750 2975 4387 \nQ 3406 4025 3406 3419 \nQ 3406 3131 3298 2873 \nQ 3191 2616 2906 2266 \nQ 2828 2175 2409 1742 \nQ 1991 1309 1228 531 \nz\n\" id=\"DejaVuSans-32\" transform=\"scale(0.015625)\"/>\n       </defs>\n       <use xlink:href=\"#DejaVuSans-30\"/>\n       <use x=\"63.623047\" xlink:href=\"#DejaVuSans-2e\"/>\n       <use x=\"95.410156\" xlink:href=\"#DejaVuSans-32\"/>\n      </g>\n     </g>\n    </g>\n    <g id=\"xtick_3\">\n     <g id=\"line2d_3\">\n      <g>\n       <use style=\"stroke:#000000;stroke-width:0.8;\" x=\"198.204545\" xlink:href=\"#m5f29f14cae\" y=\"256.6\"/>\n      </g>\n     </g>\n     <g id=\"text_3\">\n      <!-- 0.4 -->\n      <g transform=\"translate(190.252983 271.198437)scale(0.1 -0.1)\">\n       <defs>\n        <path d=\"M 2419 4116 \nL 825 1625 \nL 2419 1625 \nL 2419 4116 \nz\nM 2253 4666 \nL 3047 4666 \nL 3047 1625 \nL 3713 1625 \nL 3713 1100 \nL 3047 1100 \nL 3047 0 \nL 2419 0 \nL 2419 1100 \nL 313 1100 \nL 313 1709 \nL 2253 4666 \nz\n\" id=\"DejaVuSans-34\" transform=\"scale(0.015625)\"/>\n       </defs>\n       <use xlink:href=\"#DejaVuSans-30\"/>\n       <use x=\"63.623047\" xlink:href=\"#DejaVuSans-2e\"/>\n       <use x=\"95.410156\" xlink:href=\"#DejaVuSans-34\"/>\n      </g>\n     </g>\n    </g>\n    <g id=\"xtick_4\">\n     <g id=\"line2d_4\">\n      <g>\n       <use style=\"stroke:#000000;stroke-width:0.8;\" x=\"265.845455\" xlink:href=\"#m5f29f14cae\" y=\"256.6\"/>\n      </g>\n     </g>\n     <g id=\"text_4\">\n      <!-- 0.6 -->\n      <g transform=\"translate(257.893892 271.198437)scale(0.1 -0.1)\">\n       <defs>\n        <path d=\"M 2113 2584 \nQ 1688 2584 1439 2293 \nQ 1191 2003 1191 1497 \nQ 1191 994 1439 701 \nQ 1688 409 2113 409 \nQ 2538 409 2786 701 \nQ 3034 994 3034 1497 \nQ 3034 2003 2786 2293 \nQ 2538 2584 2113 2584 \nz\nM 3366 4563 \nL 3366 3988 \nQ 3128 4100 2886 4159 \nQ 2644 4219 2406 4219 \nQ 1781 4219 1451 3797 \nQ 1122 3375 1075 2522 \nQ 1259 2794 1537 2939 \nQ 1816 3084 2150 3084 \nQ 2853 3084 3261 2657 \nQ 3669 2231 3669 1497 \nQ 3669 778 3244 343 \nQ 2819 -91 2113 -91 \nQ 1303 -91 875 529 \nQ 447 1150 447 2328 \nQ 447 3434 972 4092 \nQ 1497 4750 2381 4750 \nQ 2619 4750 2861 4703 \nQ 3103 4656 3366 4563 \nz\n\" id=\"DejaVuSans-36\" transform=\"scale(0.015625)\"/>\n       </defs>\n       <use xlink:href=\"#DejaVuSans-30\"/>\n       <use x=\"63.623047\" xlink:href=\"#DejaVuSans-2e\"/>\n       <use x=\"95.410156\" xlink:href=\"#DejaVuSans-36\"/>\n      </g>\n     </g>\n    </g>\n    <g id=\"xtick_5\">\n     <g id=\"line2d_5\">\n      <g>\n       <use style=\"stroke:#000000;stroke-width:0.8;\" x=\"333.486364\" xlink:href=\"#m5f29f14cae\" y=\"256.6\"/>\n      </g>\n     </g>\n     <g id=\"text_5\">\n      <!-- 0.8 -->\n      <g transform=\"translate(325.534801 271.198437)scale(0.1 -0.1)\">\n       <defs>\n        <path d=\"M 2034 2216 \nQ 1584 2216 1326 1975 \nQ 1069 1734 1069 1313 \nQ 1069 891 1326 650 \nQ 1584 409 2034 409 \nQ 2484 409 2743 651 \nQ 3003 894 3003 1313 \nQ 3003 1734 2745 1975 \nQ 2488 2216 2034 2216 \nz\nM 1403 2484 \nQ 997 2584 770 2862 \nQ 544 3141 544 3541 \nQ 544 4100 942 4425 \nQ 1341 4750 2034 4750 \nQ 2731 4750 3128 4425 \nQ 3525 4100 3525 3541 \nQ 3525 3141 3298 2862 \nQ 3072 2584 2669 2484 \nQ 3125 2378 3379 2068 \nQ 3634 1759 3634 1313 \nQ 3634 634 3220 271 \nQ 2806 -91 2034 -91 \nQ 1263 -91 848 271 \nQ 434 634 434 1313 \nQ 434 1759 690 2068 \nQ 947 2378 1403 2484 \nz\nM 1172 3481 \nQ 1172 3119 1398 2916 \nQ 1625 2713 2034 2713 \nQ 2441 2713 2670 2916 \nQ 2900 3119 2900 3481 \nQ 2900 3844 2670 4047 \nQ 2441 4250 2034 4250 \nQ 1625 4250 1398 4047 \nQ 1172 3844 1172 3481 \nz\n\" id=\"DejaVuSans-38\" transform=\"scale(0.015625)\"/>\n       </defs>\n       <use xlink:href=\"#DejaVuSans-30\"/>\n       <use x=\"63.623047\" xlink:href=\"#DejaVuSans-2e\"/>\n       <use x=\"95.410156\" xlink:href=\"#DejaVuSans-38\"/>\n      </g>\n     </g>\n    </g>\n    <g id=\"xtick_6\">\n     <g id=\"line2d_6\">\n      <g>\n       <use style=\"stroke:#000000;stroke-width:0.8;\" x=\"401.127273\" xlink:href=\"#m5f29f14cae\" y=\"256.6\"/>\n      </g>\n     </g>\n     <g id=\"text_6\">\n      <!-- 1.0 -->\n      <g transform=\"translate(393.17571 271.198437)scale(0.1 -0.1)\">\n       <defs>\n        <path d=\"M 794 531 \nL 1825 531 \nL 1825 4091 \nL 703 3866 \nL 703 4441 \nL 1819 4666 \nL 2450 4666 \nL 2450 531 \nL 3481 531 \nL 3481 0 \nL 794 0 \nL 794 531 \nz\n\" id=\"DejaVuSans-31\" transform=\"scale(0.015625)\"/>\n       </defs>\n       <use xlink:href=\"#DejaVuSans-31\"/>\n       <use x=\"63.623047\" xlink:href=\"#DejaVuSans-2e\"/>\n       <use x=\"95.410156\" xlink:href=\"#DejaVuSans-30\"/>\n      </g>\n     </g>\n    </g>\n   </g>\n   <g id=\"matplotlib.axis_2\">\n    <g id=\"ytick_1\">\n     <g id=\"line2d_7\">\n      <defs>\n       <path d=\"M 0 0 \nL -3.5 0 \n\" id=\"m69df276f04\" style=\"stroke:#000000;stroke-width:0.8;\"/>\n      </defs>\n      <g>\n       <use style=\"stroke:#000000;stroke-width:0.8;\" x=\"46.0125\" xlink:href=\"#m69df276f04\" y=\"256.6\"/>\n      </g>\n     </g>\n     <g id=\"text_7\">\n      <!-- 0 -->\n      <g transform=\"translate(32.65 260.399219)scale(0.1 -0.1)\">\n       <use xlink:href=\"#DejaVuSans-30\"/>\n      </g>\n     </g>\n    </g>\n    <g id=\"ytick_2\">\n     <g id=\"line2d_8\">\n      <g>\n       <use style=\"stroke:#000000;stroke-width:0.8;\" x=\"46.0125\" xlink:href=\"#m69df276f04\" y=\"202.650421\"/>\n      </g>\n     </g>\n     <g id=\"text_8\">\n      <!-- 20000 -->\n      <g transform=\"translate(7.2 206.44964)scale(0.1 -0.1)\">\n       <use xlink:href=\"#DejaVuSans-32\"/>\n       <use x=\"63.623047\" xlink:href=\"#DejaVuSans-30\"/>\n       <use x=\"127.246094\" xlink:href=\"#DejaVuSans-30\"/>\n       <use x=\"190.869141\" xlink:href=\"#DejaVuSans-30\"/>\n       <use x=\"254.492188\" xlink:href=\"#DejaVuSans-30\"/>\n      </g>\n     </g>\n    </g>\n    <g id=\"ytick_3\">\n     <g id=\"line2d_9\">\n      <g>\n       <use style=\"stroke:#000000;stroke-width:0.8;\" x=\"46.0125\" xlink:href=\"#m69df276f04\" y=\"148.700843\"/>\n      </g>\n     </g>\n     <g id=\"text_9\">\n      <!-- 40000 -->\n      <g transform=\"translate(7.2 152.500062)scale(0.1 -0.1)\">\n       <use xlink:href=\"#DejaVuSans-34\"/>\n       <use x=\"63.623047\" xlink:href=\"#DejaVuSans-30\"/>\n       <use x=\"127.246094\" xlink:href=\"#DejaVuSans-30\"/>\n       <use x=\"190.869141\" xlink:href=\"#DejaVuSans-30\"/>\n       <use x=\"254.492188\" xlink:href=\"#DejaVuSans-30\"/>\n      </g>\n     </g>\n    </g>\n    <g id=\"ytick_4\">\n     <g id=\"line2d_10\">\n      <g>\n       <use style=\"stroke:#000000;stroke-width:0.8;\" x=\"46.0125\" xlink:href=\"#m69df276f04\" y=\"94.751264\"/>\n      </g>\n     </g>\n     <g id=\"text_10\">\n      <!-- 60000 -->\n      <g transform=\"translate(7.2 98.550483)scale(0.1 -0.1)\">\n       <use xlink:href=\"#DejaVuSans-36\"/>\n       <use x=\"63.623047\" xlink:href=\"#DejaVuSans-30\"/>\n       <use x=\"127.246094\" xlink:href=\"#DejaVuSans-30\"/>\n       <use x=\"190.869141\" xlink:href=\"#DejaVuSans-30\"/>\n       <use x=\"254.492188\" xlink:href=\"#DejaVuSans-30\"/>\n      </g>\n     </g>\n    </g>\n    <g id=\"ytick_5\">\n     <g id=\"line2d_11\">\n      <g>\n       <use style=\"stroke:#000000;stroke-width:0.8;\" x=\"46.0125\" xlink:href=\"#m69df276f04\" y=\"40.801686\"/>\n      </g>\n     </g>\n     <g id=\"text_11\">\n      <!-- 80000 -->\n      <g transform=\"translate(7.2 44.600905)scale(0.1 -0.1)\">\n       <use xlink:href=\"#DejaVuSans-38\"/>\n       <use x=\"63.623047\" xlink:href=\"#DejaVuSans-30\"/>\n       <use x=\"127.246094\" xlink:href=\"#DejaVuSans-30\"/>\n       <use x=\"190.869141\" xlink:href=\"#DejaVuSans-30\"/>\n       <use x=\"254.492188\" xlink:href=\"#DejaVuSans-30\"/>\n      </g>\n     </g>\n    </g>\n   </g>\n   <g id=\"patch_23\">\n    <path d=\"M 46.0125 256.6 \nL 46.0125 7.2 \n\" style=\"fill:none;stroke:#000000;stroke-linecap:square;stroke-linejoin:miter;stroke-width:0.8;\"/>\n   </g>\n   <g id=\"patch_24\">\n    <path d=\"M 418.0375 256.6 \nL 418.0375 7.2 \n\" style=\"fill:none;stroke:#000000;stroke-linecap:square;stroke-linejoin:miter;stroke-width:0.8;\"/>\n   </g>\n   <g id=\"patch_25\">\n    <path d=\"M 46.0125 256.6 \nL 418.0375 256.6 \n\" style=\"fill:none;stroke:#000000;stroke-linecap:square;stroke-linejoin:miter;stroke-width:0.8;\"/>\n   </g>\n   <g id=\"patch_26\">\n    <path d=\"M 46.0125 7.2 \nL 418.0375 7.2 \n\" style=\"fill:none;stroke:#000000;stroke-linecap:square;stroke-linejoin:miter;stroke-width:0.8;\"/>\n   </g>\n   <g id=\"legend_1\">\n    <g id=\"patch_27\">\n     <path d=\"M 193.149219 251.6 \nL 270.900781 251.6 \nQ 272.900781 251.6 272.900781 249.6 \nL 272.900781 221.24375 \nQ 272.900781 219.24375 270.900781 219.24375 \nL 193.149219 219.24375 \nQ 191.149219 219.24375 191.149219 221.24375 \nL 191.149219 249.6 \nQ 191.149219 251.6 193.149219 251.6 \nz\n\" style=\"fill:#ffffff;opacity:0.8;stroke:#cccccc;stroke-linejoin:miter;\"/>\n    </g>\n    <g id=\"patch_28\">\n     <path d=\"M 195.149219 230.842187 \nL 215.149219 230.842187 \nL 215.149219 223.842187 \nL 195.149219 223.842187 \nz\n\" style=\"fill:#008000;opacity:0.6;\"/>\n    </g>\n    <g id=\"text_12\">\n     <!-- NQ-NQ -->\n     <g transform=\"translate(223.149219 230.842187)scale(0.1 -0.1)\">\n      <defs>\n       <path d=\"M 628 4666 \nL 1478 4666 \nL 3547 763 \nL 3547 4666 \nL 4159 4666 \nL 4159 0 \nL 3309 0 \nL 1241 3903 \nL 1241 0 \nL 628 0 \nL 628 4666 \nz\n\" id=\"DejaVuSans-4e\" transform=\"scale(0.015625)\"/>\n       <path d=\"M 2522 4238 \nQ 1834 4238 1429 3725 \nQ 1025 3213 1025 2328 \nQ 1025 1447 1429 934 \nQ 1834 422 2522 422 \nQ 3209 422 3611 934 \nQ 4013 1447 4013 2328 \nQ 4013 3213 3611 3725 \nQ 3209 4238 2522 4238 \nz\nM 3406 84 \nL 4238 -825 \nL 3475 -825 \nL 2784 -78 \nQ 2681 -84 2626 -87 \nQ 2572 -91 2522 -91 \nQ 1538 -91 948 567 \nQ 359 1225 359 2328 \nQ 359 3434 948 4092 \nQ 1538 4750 2522 4750 \nQ 3503 4750 4090 4092 \nQ 4678 3434 4678 2328 \nQ 4678 1516 4351 937 \nQ 4025 359 3406 84 \nz\n\" id=\"DejaVuSans-51\" transform=\"scale(0.015625)\"/>\n       <path d=\"M 313 2009 \nL 1997 2009 \nL 1997 1497 \nL 313 1497 \nL 313 2009 \nz\n\" id=\"DejaVuSans-2d\" transform=\"scale(0.015625)\"/>\n      </defs>\n      <use xlink:href=\"#DejaVuSans-4e\"/>\n      <use x=\"74.804688\" xlink:href=\"#DejaVuSans-51\"/>\n      <use x=\"156.265625\" xlink:href=\"#DejaVuSans-2d\"/>\n      <use x=\"192.349609\" xlink:href=\"#DejaVuSans-4e\"/>\n      <use x=\"267.154297\" xlink:href=\"#DejaVuSans-51\"/>\n     </g>\n    </g>\n    <g id=\"patch_29\">\n     <path d=\"M 195.149219 245.520312 \nL 215.149219 245.520312 \nL 215.149219 238.520312 \nL 195.149219 238.520312 \nz\n\" style=\"fill:#0000ff;opacity:0.3;\"/>\n    </g>\n    <g id=\"text_13\">\n     <!-- NQ-RACE -->\n     <g transform=\"translate(223.149219 245.520312)scale(0.1 -0.1)\">\n      <defs>\n       <path d=\"M 2841 2188 \nQ 3044 2119 3236 1894 \nQ 3428 1669 3622 1275 \nL 4263 0 \nL 3584 0 \nL 2988 1197 \nQ 2756 1666 2539 1819 \nQ 2322 1972 1947 1972 \nL 1259 1972 \nL 1259 0 \nL 628 0 \nL 628 4666 \nL 2053 4666 \nQ 2853 4666 3247 4331 \nQ 3641 3997 3641 3322 \nQ 3641 2881 3436 2590 \nQ 3231 2300 2841 2188 \nz\nM 1259 4147 \nL 1259 2491 \nL 2053 2491 \nQ 2509 2491 2742 2702 \nQ 2975 2913 2975 3322 \nQ 2975 3731 2742 3939 \nQ 2509 4147 2053 4147 \nL 1259 4147 \nz\n\" id=\"DejaVuSans-52\" transform=\"scale(0.015625)\"/>\n       <path d=\"M 2188 4044 \nL 1331 1722 \nL 3047 1722 \nL 2188 4044 \nz\nM 1831 4666 \nL 2547 4666 \nL 4325 0 \nL 3669 0 \nL 3244 1197 \nL 1141 1197 \nL 716 0 \nL 50 0 \nL 1831 4666 \nz\n\" id=\"DejaVuSans-41\" transform=\"scale(0.015625)\"/>\n       <path d=\"M 4122 4306 \nL 4122 3641 \nQ 3803 3938 3442 4084 \nQ 3081 4231 2675 4231 \nQ 1875 4231 1450 3742 \nQ 1025 3253 1025 2328 \nQ 1025 1406 1450 917 \nQ 1875 428 2675 428 \nQ 3081 428 3442 575 \nQ 3803 722 4122 1019 \nL 4122 359 \nQ 3791 134 3420 21 \nQ 3050 -91 2638 -91 \nQ 1578 -91 968 557 \nQ 359 1206 359 2328 \nQ 359 3453 968 4101 \nQ 1578 4750 2638 4750 \nQ 3056 4750 3426 4639 \nQ 3797 4528 4122 4306 \nz\n\" id=\"DejaVuSans-43\" transform=\"scale(0.015625)\"/>\n       <path d=\"M 628 4666 \nL 3578 4666 \nL 3578 4134 \nL 1259 4134 \nL 1259 2753 \nL 3481 2753 \nL 3481 2222 \nL 1259 2222 \nL 1259 531 \nL 3634 531 \nL 3634 0 \nL 628 0 \nL 628 4666 \nz\n\" id=\"DejaVuSans-45\" transform=\"scale(0.015625)\"/>\n      </defs>\n      <use xlink:href=\"#DejaVuSans-4e\"/>\n      <use x=\"74.804688\" xlink:href=\"#DejaVuSans-51\"/>\n      <use x=\"156.265625\" xlink:href=\"#DejaVuSans-2d\"/>\n      <use x=\"192.349609\" xlink:href=\"#DejaVuSans-52\"/>\n      <use x=\"257.832031\" xlink:href=\"#DejaVuSans-41\"/>\n      <use x=\"324.490234\" xlink:href=\"#DejaVuSans-43\"/>\n      <use x=\"394.314453\" xlink:href=\"#DejaVuSans-45\"/>\n     </g>\n    </g>\n   </g>\n  </g>\n </g>\n <defs>\n  <clipPath id=\"p9021eb785d\">\n   <rect height=\"249.4\" width=\"372.025\" x=\"46.0125\" y=\"7.2\"/>\n  </clipPath>\n </defs>\n</svg>\n",
      "text/plain": [
       "<Figure size 432x288 with 1 Axes>"
      ]
     },
     "metadata": {
      "needs_background": "light"
     },
     "output_type": "display_data"
    }
   ],
   "source": [
    "plt.hist(nq_nq_gmm_prob, alpha=0.6, label='NQ-NQ', color='g')\n",
    "plt.hist(nq_race_gmm_prob, alpha=0.3, label='NQ-RACE', color='blue')\n",
    "plt.legend()\n",
    "plt.tight_layout()\n",
    "plt.savefig(\"NQ-RACE-GMM-Proba-Distribution.pdf\", dpi=600, bbox_inches='tight')\n",
    "plt.show()"
   ]
  },
  {
   "cell_type": "code",
   "execution_count": 44,
   "metadata": {},
   "outputs": [
    {
     "data": {
      "text/plain": [
       "(88054,)"
      ]
     },
     "execution_count": 44,
     "metadata": {},
     "output_type": "execute_result"
    }
   ],
   "source": [
    "np.where(nq_race_gmm_prob > 0.9)[0].shape"
   ]
  },
  {
   "cell_type": "code",
   "execution_count": 41,
   "metadata": {},
   "outputs": [],
   "source": [
    "gmm_nq_mis_race_idx = np.where(nq_race_gmm_prob > 0.5)[0]\n",
    "gmm_sorted_nq_mis_race_idx = np.argsort( nq_race_gmm_prob[gmm_nq_mis_race_idx] )[::-1]"
   ]
  },
  {
   "cell_type": "code",
   "execution_count": 42,
   "metadata": {},
   "outputs": [
    {
     "name": "stdout",
     "output_type": "stream",
     "text": [
      "88306 0.5031166212430672\n"
     ]
    }
   ],
   "source": [
    "print(len(gmm_nq_mis_race_idx), nq_race_gmm_prob[gmm_nq_mis_race_idx[gmm_sorted_nq_mis_race_idx[-1]]])"
   ]
  },
  {
   "cell_type": "code",
   "execution_count": 39,
   "metadata": {},
   "outputs": [],
   "source": [
    "for i in range(0, 10000, 1000):\n",
    "    e = min(i+1000, len(gmm_sorted_nq_mis_race_idx))\n",
    "    f = open(f\"../../data/nq/gmm_race_mis_nq/{e}.jsonl\", \"w\")\n",
    "    for j in range(0, e):\n",
    "        idx = gmm_nq_mis_race_idx[gmm_sorted_nq_mis_race_idx[j]]\n",
    "        line = nq_ds[idx]\n",
    "        item = json.loads(line)\n",
    "        item['gmm_prob'] = nq_race_gmm_prob[idx]\n",
    "        f.write(json.dumps(item))\n",
    "        f.write('\\n')\n",
    "    f.close()"
   ]
  },
  {
   "cell_type": "code",
   "execution_count": 99,
   "metadata": {},
   "outputs": [],
   "source": [
    "gmm_centers = nq_race[method_used]['gmm']['means']"
   ]
  },
  {
   "cell_type": "code",
   "execution_count": 100,
   "metadata": {},
   "outputs": [
    {
     "data": {
      "text/plain": [
       "(2, 100)"
      ]
     },
     "execution_count": 100,
     "metadata": {},
     "output_type": "execute_result"
    }
   ],
   "source": [
    "gmm_centers.shape"
   ]
  },
  {
   "cell_type": "code",
   "execution_count": null,
   "metadata": {},
   "outputs": [],
   "source": [
    "nq_gmm_center = gmm_centers[nq_label_id, :]\n",
    "race_gmm_center = gmm_centers[race_label_id, :]"
   ]
  },
  {
   "cell_type": "code",
   "execution_count": null,
   "metadata": {},
   "outputs": [],
   "source": []
  },
  {
   "cell_type": "code",
   "execution_count": 84,
   "metadata": {},
   "outputs": [],
   "source": [
    "nq_sciq = torch.load(\"results_NQ-SciQ.pt\")"
   ]
  },
  {
   "cell_type": "code",
   "execution_count": 85,
   "metadata": {},
   "outputs": [],
   "source": [
    "label_id_map = { v:k for k, v in nq_sciq['all']['kmeans']['cluster_label_map'].items() }"
   ]
  },
  {
   "cell_type": "code",
   "execution_count": 86,
   "metadata": {},
   "outputs": [
    {
     "name": "stdout",
     "output_type": "stream",
     "text": [
      "{0: 'SciQ', 1: 'NQ'} {'SciQ': 0, 'NQ': 1}\n"
     ]
    }
   ],
   "source": [
    "print( nq_sciq['all']['kmeans']['cluster_label_map'], label_id_map)"
   ]
  },
  {
   "cell_type": "code",
   "execution_count": 87,
   "metadata": {},
   "outputs": [
    {
     "data": {
      "text/plain": [
       "{'NQ': 0, 'SciQ': 89453}"
      ]
     },
     "execution_count": 87,
     "metadata": {},
     "output_type": "execute_result"
    }
   ],
   "source": [
    "nq_sciq['all']['kmeans']['corpus_idx']"
   ]
  },
  {
   "cell_type": "code",
   "execution_count": 88,
   "metadata": {},
   "outputs": [],
   "source": [
    "sciq_label_id = label_id_map['SciQ']\n",
    "nq_label_id = label_id_map['NQ']\n",
    "nq_sciq_dis = nq_sciq['all']['kmeans']['distances'][:89453, sciq_label_id]\n",
    "nq_nq_dis = nq_sciq['all']['kmeans']['distances'][:89453, nq_label_id]\n",
    "\n",
    "sciq_sciq_dis = nq_sciq['all']['kmeans']['distances'][89453:, sciq_label_id]\n",
    "sciq_nq_dis = nq_sciq['all']['kmeans']['distances'][89453:, nq_label_id]"
   ]
  },
  {
   "cell_type": "code",
   "execution_count": 89,
   "metadata": {},
   "outputs": [
    {
     "data": {
      "image/png": "[encoded data removed]",
      "text/plain": [
       "<Figure size 432x288 with 1 Axes>"
      ]
     },
     "metadata": {
      "needs_background": "light"
     },
     "output_type": "display_data"
    }
   ],
   "source": [
    "plt.hist(nq_nq_dis, alpha=0.6, label='NQ-NQ', color='g')\n",
    "plt.hist(nq_sciq_dis, alpha=0.3, label='NQ-SciQ', color='blue')\n",
    "plt.legend()\n",
    "plt.tight_layout()\n",
    "plt.savefig(\"NQ-SciQ-Distance-Distribution.pdf\", dpi=600, bbox_inches='tight')\n",
    "plt.show()"
   ]
  },
  {
   "cell_type": "code",
   "execution_count": 90,
   "metadata": {},
   "outputs": [
    {
     "data": {
      "image/png": "[encoded data removed]",
      "text/plain": [
       "<Figure size 432x288 with 1 Axes>"
      ]
     },
     "metadata": {
      "needs_background": "light"
     },
     "output_type": "display_data"
    }
   ],
   "source": [
    "plt.hist(sciq_sciq_dis, alpha=0.6, label='SciQ-SciQ', color='g')\n",
    "plt.hist(sciq_nq_dis , alpha=0.3, label='SciQ-NQ', color='blue')\n",
    "plt.legend()\n",
    "plt.tight_layout()\n",
    "plt.savefig(\"SciQ-NQ-Distance-Distribution.pdf\", dpi=600, bbox_inches='tight')\n",
    "plt.show()"
   ]
  },
  {
   "cell_type": "code",
   "execution_count": 91,
   "metadata": {},
   "outputs": [
    {
     "data": {
      "text/plain": [
       "array([2.20199175, 2.20199175, 2.22113429])"
      ]
     },
     "execution_count": 91,
     "metadata": {},
     "output_type": "execute_result"
    }
   ],
   "source": [
    "np.sort(nq_sciq_dis)[:3]"
   ]
  },
  {
   "cell_type": "code",
   "execution_count": 92,
   "metadata": {},
   "outputs": [],
   "source": [
    "# sort NQ according to the distance to the target domain, far->near\n",
    "nq_sciq_sorted_idx = np.argsort( nq_sciq_dis )[::-1]"
   ]
  },
  {
   "cell_type": "code",
   "execution_count": 93,
   "metadata": {},
   "outputs": [
    {
     "data": {
      "text/plain": [
       "array([2.22113429, 2.20199175, 2.20199175])"
      ]
     },
     "execution_count": 93,
     "metadata": {},
     "output_type": "execute_result"
    }
   ],
   "source": [
    "nq_sciq_dis[nq_sciq_sorted_idx[-3:]]"
   ]
  },
  {
   "cell_type": "code",
   "execution_count": 141,
   "metadata": {},
   "outputs": [],
   "source": [
    "nq_sciq_sorted_ds = [nq_ds[_] for _ in nq_sciq_sorted_idx ]"
   ]
  },
  {
   "cell_type": "code",
   "execution_count": 142,
   "metadata": {},
   "outputs": [],
   "source": [
    "f = open(\"../../data/nq/sciq_order/sciq_dis_ordered.jsonl\", \"w\")\n",
    "for i, line in enumerate(nq_sciq_sorted_ds):\n",
    "    item = json.loads(line)\n",
    "    item['race_dis'] = nq_sciq_dis[ nq_sciq_sorted_idx[i] ]\n",
    "    f.write(json.dumps(item))\n",
    "    f.write('\\n')\n",
    "f.close()"
   ]
  },
  {
   "cell_type": "code",
   "execution_count": 143,
   "metadata": {},
   "outputs": [],
   "source": [
    "nq_sciq_ordered_idx = nq_sciq_sorted_idx[::-1]\n",
    "for i in range(0, 10000, 1000):\n",
    "    e = min(i+1000, len(nq_ds))\n",
    "    f = open(f\"../../data/nq/sciq_order/{e}.jsonl\", \"w\")\n",
    "    for j in range(i, e):\n",
    "        line = nq_ds[nq_sciq_ordered_idx[j]]\n",
    "        item = json.loads(line)\n",
    "        item['sciq_dis'] = nq_sciq_dis[nq_sciq_ordered_idx[j]]\n",
    "        f.write(json.dumps(item))\n",
    "        f.write('\\n')\n",
    "    f.close()\n"
   ]
  },
  {
   "cell_type": "code",
   "execution_count": 94,
   "metadata": {},
   "outputs": [],
   "source": [
    "nq_sciq_center_cosine_distance = nq_sciq[method_used]['gmm']['other_center_cosine_distance'][:89453]\n",
    "nq_sciq_center_l2_distance = nq_sciq[method_used]['gmm']['other_center_l2_distance'][:89453]\n",
    "nq_nq_center_cosine_distance = nq_sciq[method_used]['gmm']['nq_center_cosine_distance'][:89453]\n",
    "nq_nq_center_l2_distance = nq_sciq[method_used]['gmm']['nq_center_l2_distance'][:89453]"
   ]
  },
  {
   "cell_type": "code",
   "execution_count": 95,
   "metadata": {},
   "outputs": [
    {
     "data": {
      "image/png": "[encoded data removed]",
      "text/plain": [
       "<Figure size 432x288 with 1 Axes>"
      ]
     },
     "metadata": {
      "needs_background": "light"
     },
     "output_type": "display_data"
    }
   ],
   "source": [
    "plt.hist(nq_sciq_center_cosine_distance, alpha=0.6, label='NQ-SciQ', color='g')\n",
    "plt.hist(nq_nq_center_cosine_distance , alpha=0.3, label='NQ-NQ', color='blue')\n",
    "plt.legend()\n",
    "plt.tight_layout()\n",
    "plt.savefig(\"NQ-SciQ-Center-Cosine-Distance-Distribution.pdf\", dpi=600, bbox_inches='tight')\n",
    "plt.show()"
   ]
  },
  {
   "cell_type": "code",
   "execution_count": 247,
   "metadata": {},
   "outputs": [
    {
     "data": {
      "image/png": "[encoded data removed]",
      "text/plain": [
       "<Figure size 432x288 with 1 Axes>"
      ]
     },
     "metadata": {
      "needs_background": "light"
     },
     "output_type": "display_data"
    }
   ],
   "source": [
    "plt.hist(nq_nq_center_l2_distance , alpha=0.6, label='NQ-NQ', color='g')\n",
    "plt.hist(nq_sciq_center_l2_distance, alpha=0.3, label='NQ-SciQ', color='blue')\n",
    "plt.legend()\n",
    "plt.tight_layout()\n",
    "plt.savefig(\"NQ-SciQ-Center-l2-Distance-Distribution.pdf\", dpi=600, bbox_inches='tight')\n",
    "plt.show()"
   ]
  },
  {
   "cell_type": "code",
   "execution_count": 146,
   "metadata": {},
   "outputs": [],
   "source": [
    "nq_sciq_l2_gmm_sorted_idx = np.argsort(nq_sciq_center_l2_distance)"
   ]
  },
  {
   "cell_type": "code",
   "execution_count": 147,
   "metadata": {},
   "outputs": [],
   "source": [
    "for i in range(0, 10000, 1000):\n",
    "    e = min(i+1000, len(nq_ds))\n",
    "    f = open(f\"../../data/nq/sciq_gmm_l2_order/{e}.jsonl\", \"w\")\n",
    "    for j in range(0, e):\n",
    "        line = nq_ds[nq_sciq_l2_gmm_sorted_idx[j]]\n",
    "        item = json.loads(line)\n",
    "        item['sciq_dis'] =  nq_sciq_center_l2_distance[nq_sciq_l2_gmm_sorted_idx[j]]\n",
    "        f.write(json.dumps(item))\n",
    "        f.write('\\n')\n",
    "    f.close()\n"
   ]
  },
  {
   "cell_type": "code",
   "execution_count": null,
   "metadata": {},
   "outputs": [],
   "source": []
  },
  {
   "cell_type": "code",
   "execution_count": 53,
   "metadata": {},
   "outputs": [
    {
     "data": {
      "text/plain": [
       "'[CLS] The lysosomes also act as the waste disposal system of the cell by digesting unwanted materials in the cytoplasm, both from outside the cell and obsolete components inside the cell. Material from outside the cell is taken - up through endocytosis, while material from the inside of the cell is digested through autophagy. Their sizes can be very different - - the biggest ones can be more than 10 times bigger than the smallest ones. They were discovered and named by Belgian biologist Christian de Duve, who eventually received the Nobel Prize in Physiology or Medicine in 1974. [SEP] endocytosis [SEP]'"
      ]
     },
     "execution_count": 53,
     "metadata": {},
     "output_type": "execute_result"
    }
   ],
   "source": [
    "dnq_ds[nq_sciq_sorted_idx[-1]]['src']"
   ]
  },
  {
   "cell_type": "code",
   "execution_count": 54,
   "metadata": {},
   "outputs": [
    {
     "data": {
      "text/plain": [
       "\"[CLS] A man named Bailey intends to take his family from Georgia to Florida for a summer vacation, but his mother, ( referred to as ` ` the grandmother'' in the story ) wants him to drive to East Tennessee, where the grandmother has friends ( ` ` connections'' ). She argues that his children, John Wesley and June Star, have never been to East Tennessee, and she shows him a news article in the Atlanta Journal Constitution about an escaped murderer who calls himself The Misfit last seen in Florida. The next day, the grandmother wakes up early to hide her cat, Pitty Sing, in a basket on the floor in the back of the car. She is worried that the cat would die while they were gone. Bailey finds her sitting in the car, dressed in her best clothes and an ostentatious hat ; she says that if she should die in an accident along the road, she wants people to see her corpse and know she was refined and ` ` a lady.'' The Grandmother talks continuously during the trip, trying to engage her two rude grandchildren in games and telling them jokes and a story, about which June Star makes disdainful comments. She recalls her youth in the Old South, reminiscing about her courtships and how much better everything was in her time, when children were respectful and people ` ` did right then.'' When the family stops at an old diner outside of Timothy for lunch, she talks to the owner, Red Sammy, about The Misfit. He and the grandmother agree that things were much better in the past and that the world at present is degenerate ; she concurs with Sammy's remark that ` ` a good man is hard to find.'' [SEP] his mother, ( referred to as ` ` the grandmother'' in the story ) [SEP]\""
      ]
     },
     "execution_count": 54,
     "metadata": {},
     "output_type": "execute_result"
    }
   ],
   "source": [
    "dnq_ds[ nq_race_sorted_idx[-1] ]['src']"
   ]
  },
  {
   "cell_type": "code",
   "execution_count": 55,
   "metadata": {},
   "outputs": [
    {
     "data": {
      "text/plain": [
       "'who goes on the family road trip to florida a good man is hard to find ?'"
      ]
     },
     "execution_count": 55,
     "metadata": {},
     "output_type": "execute_result"
    }
   ],
   "source": [
    "' '.join(dnq_ds[ nq_race_sorted_idx[-1] ]['tgt'])"
   ]
  },
  {
   "cell_type": "code",
   "execution_count": 56,
   "metadata": {},
   "outputs": [
    {
     "data": {
      "text/plain": [
       "\"In his blog , he writes that he is the Director of WHO DID THIS . The company he works for , Altrucell , advertises itself as the world 's largest producer of the felt covers of tennis balls ; however , Future Ted implies that the company 's main profits come from other , less innocent sources , such as logging , oil drilling , small arms , tobacco farming and missile construction . Barney states in ` ` Cupcake '' that , as a lawyer for Altrucell , Marshall would make more money in three months than he and Lily make in a year because his company has so many lawsuits against it . In the season 3 episode ` ` The Bracket , '' he says that he is good enough at lying to avoid perjury charges . As of Season 4 , his company is involved in a hostile takeover of Goliath National Bank ( GNB ) and consequently shifts him to the management team of the bank , but he remains a powerful     executive     and continues to use the same office he has had since it was first shown in Season 1 . Despite this , he has suggested there is the possibility he will one day wash up on shore with no teeth or fingerprints and supposedly has come under attack by ninjas in the past during work . In Season 4 , during the episode ` ` Happily Ever After '' , Barney states to a woman that he is an ` ` Attorney in Law '' , though this was probably just part of a pick - up line as he immediately followed it with ` ` Let 's talk about getting you off '' . His video resume was published in Season 4 episode ` ` The Possimpible '' . In a season 8 episode , it was implied that the full extent of Barney 's career might never be revealed .\""
      ]
     },
     "execution_count": 56,
     "metadata": {},
     "output_type": "execute_result"
    }
   ],
   "source": [
    "' '.join(dnq_ds[ nq_race_sorted_idx[-50] ]['text'])"
   ]
  },
  {
   "cell_type": "code",
   "execution_count": 57,
   "metadata": {},
   "outputs": [
    {
     "data": {
      "text/plain": [
       "\"[CLS] In his blog, he writes that he is the Director of WHO DID THIS. The company he works for, Altrucell, advertises itself as the world's largest producer of the felt covers of tennis balls ; however, Future Ted implies that the company's main profits come from other, less innocent sources, such as logging, oil drilling, small arms, tobacco farming and missile construction. Barney states in ` ` Cupcake'' that, as a lawyer for Altrucell, Marshall would make more money in three months than he and Lily make in a year because his company has so many lawsuits against it. In the season 3 episode ` ` The Bracket,'' he says that he is good enough at lying to avoid perjury charges. As of Season 4, his company is involved in a hostile takeover of Goliath National Bank ( GNB ) and consequently shifts him to the management team of the bank, but he remains a powerful executive and continues to use the same office he has had since it was first shown in Season 1. Despite this, he has suggested there is the possibility he will one day wash up on shore with no teeth or fingerprints and supposedly has come under attack by ninjas in the past during work. In Season 4, during the episode ` ` Happily Ever After'', Barney states to a woman that he is an ` ` Attorney in Law'', though this was probably just part of a pick - up line as he immediately followed it with ` ` Let's talk about getting you off''. His video resume was published in Season 4 episode ` ` The Possimpible''. In a season 8 episode, it was implied that the full extent of Barney's career might never be revealed. [SEP] executive [SEP]\""
      ]
     },
     "execution_count": 57,
     "metadata": {},
     "output_type": "execute_result"
    }
   ],
   "source": [
    "dnq_ds[ nq_race_sorted_idx[-50] ]['src']"
   ]
  },
  {
   "cell_type": "code",
   "execution_count": 58,
   "metadata": {},
   "outputs": [
    {
     "data": {
      "text/plain": [
       "'what does barney work as in how i met your mother ?'"
      ]
     },
     "execution_count": 58,
     "metadata": {},
     "output_type": "execute_result"
    }
   ],
   "source": [
    "' '.join(dnq_ds[ nq_race_sorted_idx[-50] ]['tgt'])"
   ]
  },
  {
   "cell_type": "code",
   "execution_count": 59,
   "metadata": {},
   "outputs": [
    {
     "data": {
      "text/plain": [
       "\"Cellular respiration is a set of metabolic reactions and processes that take place in the cells of organisms to convert     biochemical energy     from nutrients into adenosine triphosphate ( ATP ) , and then release waste products . The reactions involved in respiration are catabolic reactions , which break large molecules into smaller ones , releasing energy in the process , as weak so - called ` ` high - energy '' bonds are replaced by stronger bonds in the products . Respiration is one of the key ways a cell releases chemical energy to fuel cellular activity . Cellular respiration is considered an exothermic redox reaction which releases heat . The overall reaction occurs in a series of biochemical steps , most of which are redox reactions themselves . Although cellular respiration is technically a combustion reaction , it clearly does not resemble one when it occurs in a living cell because of the slow release of energy from the series of reactions .\""
      ]
     },
     "execution_count": 59,
     "metadata": {},
     "output_type": "execute_result"
    }
   ],
   "source": [
    "' '.join(dnq_ds[ nq_sciq_sorted_idx[-40] ]['text'])"
   ]
  },
  {
   "cell_type": "code",
   "execution_count": 60,
   "metadata": {},
   "outputs": [
    {
     "data": {
      "text/plain": [
       "'the purpose of cellular respiration is to enable cells to create and use what ?'"
      ]
     },
     "execution_count": 60,
     "metadata": {},
     "output_type": "execute_result"
    }
   ],
   "source": [
    "' '.join(dnq_ds[ nq_sciq_sorted_idx[-40] ]['tgt'])"
   ]
  },
  {
   "cell_type": "code",
   "execution_count": 97,
   "metadata": {},
   "outputs": [
    {
     "data": {
      "text/plain": [
       "'[CLS] The lysosomes also act as the waste disposal system of the cell by digesting unwanted materials in the cytoplasm, both from outside the cell and obsolete components inside the cell. Material from outside the cell is taken - up through endocytosis, while material from the inside of the cell is digested through autophagy. Their sizes can be very different - - the biggest ones can be more than 10 times bigger than the smallest ones. They were discovered and named by Belgian biologist Christian de Duve, who eventually received the Nobel Prize in Physiology or Medicine in 1974. [SEP] endocytosis [SEP]'"
      ]
     },
     "execution_count": 97,
     "metadata": {},
     "output_type": "execute_result"
    }
   ],
   "source": [
    "dnq_ds[ nq_sciq_sorted_idx[-1] ]['src']"
   ]
  },
  {
   "cell_type": "code",
   "execution_count": 101,
   "metadata": {},
   "outputs": [
    {
     "data": {
      "text/plain": [
       "'the process of lysosomes digesting materials is called ?'"
      ]
     },
     "execution_count": 101,
     "metadata": {},
     "output_type": "execute_result"
    }
   ],
   "source": [
    "' '.join(dnq_ds[ nq_sciq_sorted_idx[-1] ]['tgt'])"
   ]
  },
  {
   "cell_type": "code",
   "execution_count": 100,
   "metadata": {},
   "outputs": [
    {
     "data": {
      "text/plain": [
       "\"[CLS] Anthony Hopkins as Odin : The ruler of Asgard, father of Thor, and adoptive father of Loki, based on the mythological deity of the same name. In an interview Hopkins stated he knew nothing of the comic. About the film he said, ` ` It's a superhero movie, but with a bit of Shakespeare thrown in''. Hopkins stated, ` ` I'm very interested in that relationship between fathers and sons'', and that, ` ` My father's relationship with me was cold. He was a hot - blood character but to me, cold. When I was young, he expressed his disappointment because I was bad in school and all of that. He didn't mean any harm, but I felt I could never meet up to his expectations.'' Hopkins expressed that he found a personal resonance in the Odin role, saying, ` ` He's a stern man. He's a man with purpose. I play the god who banishes his son from the kingdom of Asgard because he screwed up. He's a hot - headed, temperamental young man... probably a chip off of the old block but I decide he's not really ready to rule the future kingdom, so I banish him. I'm harsh and my wife complains and I say,'That is why I'm king.'He's ruthless, take - it - or - leave - it. Women are much more forgiving ; men are not so forgiving. I know in my life, my karma is,'If you don't like it, tough, move on.'And I move on. I'm a little like Odin myself''. In May 2016, Mel Gibson stated he was approached about the role but ` ` didn't do it''. [SEP] Anthony Hopkins [SEP]\""
      ]
     },
     "execution_count": 100,
     "metadata": {},
     "output_type": "execute_result"
    }
   ],
   "source": [
    "dnq_ds[ nq_race_sorted_idx[-50] ]['src']"
   ]
  },
  {
   "cell_type": "code",
   "execution_count": 112,
   "metadata": {},
   "outputs": [
    {
     "name": "stdout",
     "output_type": "stream",
     "text": [
      "[CLS] In 1977, the McDonald's restaurant owner clients who regularly met with Bernstein were looking for ways to create a better experience for families with kids. Bernstein reasoned that if kids could get a packaged meal all their own instead of just picking at their parent's food, everybody would be happier. He had often noticed his young son at the breakfast table poring over the various items on cereal boxes and thought, ` ` Why not do that for McDonald's? The package is the key!'' He then called in his creative team and had them mock up some paperboard boxes fashioned to resemble lunch pails with the McDonald's Golden Arches for handles. They called in nationally known children's illustrators and offered them the blank slate of filling the box's sides and tops with their own colorful ideas from art to jokes to games to comic strips to stories to fantasy : whatever they thought might appeal to kids, at least 8 items per box. Inside the box would be a burger, small fries, packet of cookies and a surprise gift. A small drink would accompany these items. Bernstein named it The Happy Meal and it was successfully introduced with television and radio spots and in - store posters in the Kansas City market in October 1977. Other markets followed and the national roll - out happened in 1979. [SEP] October 1977 [SEP]\n",
      "when did the first happy meal come out ?\n"
     ]
    }
   ],
   "source": [
    "print(dnq_ds[ nq_race_sorted_idx[-8] ]['src'])\n",
    "print(' '.join(dnq_ds[ nq_race_sorted_idx[-8] ]['tgt']))"
   ]
  },
  {
   "cell_type": "code",
   "execution_count": 109,
   "metadata": {},
   "outputs": [
    {
     "data": {
      "text/plain": [
       "'[CLS] If you did, reread it! 7. The Story of Edgar Sawtelle By David Wroblewski 576 pages ; Harper Collins A kind of Hamlet on the prairie, this is the wrenching story of a mute boy and his dog. Oprah compares it to East of Eden and To Kill a Mickingbird. 8. The Pillars of the Earth By Ken Follett 973 pages ; Penguin About the challenges of building cathedrals in 12th - century England. This novel couldn\\'t be more different in setting, time, and plot from the author\\'s breakthrough success, Eye of the Needle. Oprah declares it simply \" great \". 9. The Bluest Eye By Toni Morrison 224 pages ; Penguin How to choose among the great Morrison\\'s novel? Start with this one about a girl who thinks she has to have blue eyes to be beautiful. Oprah considered it one of the best in a crowded Morrison field. 10. The Known World By Edward P. Jones 400 pages, Harper Collins When this book was published in 2003, it shocked everybody with its description of slave - owning blacks before the Civil War. A daring, unusual examination of race. [SEP] In The Known World. [SEP]'"
      ]
     },
     "execution_count": 109,
     "metadata": {},
     "output_type": "execute_result"
    }
   ],
   "source": [
    "drace_ds[ np.argsort(race_nq_kmeans_dis)[10] ]['src']"
   ]
  },
  {
   "cell_type": "code",
   "execution_count": 108,
   "metadata": {},
   "outputs": [
    {
     "data": {
      "text/plain": [
       "'[CLS] Figure 15. 2 All animals that derive energy from food are heterotrophs. The ( a ) black bear is an omnivore, eating both plants and animals. The ( b ) heartworm Dirofilaria immitis is a parasite that derives energy from its hosts. It spends its larval stage in mosquitos and its adult stage infesting the hearts of dogs and other mammals, as shown here. ( credit a : modification of work by USDA Forest Service ; credit b : modification of work by Clyde Robinson ). [SEP] heterotrophs [SEP]'"
      ]
     },
     "execution_count": 108,
     "metadata": {},
     "output_type": "execute_result"
    }
   ],
   "source": [
    "dsciq_ds[ np.argsort(sciq_nq_dis)[10] ]['src']"
   ]
  },
  {
   "cell_type": "code",
   "execution_count": 9,
   "metadata": {},
   "outputs": [],
   "source": [
    "nq_race_class_dis = nq_race['all']['kmeans']['distances'][:89453, :]"
   ]
  },
  {
   "cell_type": "code",
   "execution_count": 18,
   "metadata": {},
   "outputs": [
    {
     "data": {
      "text/plain": [
       "array([3.05665355, 3.0868892 ])"
      ]
     },
     "execution_count": 18,
     "metadata": {},
     "output_type": "execute_result"
    }
   ],
   "source": [
    "nq_race_class_dis[np.argsort(nq_race_kmeans_dis)[7000]]"
   ]
  },
  {
   "cell_type": "code",
   "execution_count": 19,
   "metadata": {},
   "outputs": [],
   "source": [
    "dis_diff = nq_race_class_dis[:, 1] - nq_race_class_dis[:, 0]"
   ]
  },
  {
   "cell_type": "code",
   "execution_count": 37,
   "metadata": {},
   "outputs": [],
   "source": [
    "race_beeter_idx = np.where(dis_diff > 0)[0]"
   ]
  },
  {
   "cell_type": "code",
   "execution_count": 38,
   "metadata": {},
   "outputs": [
    {
     "data": {
      "text/plain": [
       "(7164,)"
      ]
     },
     "execution_count": 38,
     "metadata": {},
     "output_type": "execute_result"
    }
   ],
   "source": [
    "race_beeter_idx.shape"
   ]
  },
  {
   "cell_type": "code",
   "execution_count": 40,
   "metadata": {},
   "outputs": [
    {
     "data": {
      "text/plain": [
       "5792"
      ]
     },
     "execution_count": 40,
     "metadata": {},
     "output_type": "execute_result"
    }
   ],
   "source": [
    "np.argmin(nq_race_kmeans_dis[race_beeter_idx])"
   ]
  },
  {
   "cell_type": "code",
   "execution_count": 41,
   "metadata": {},
   "outputs": [
    {
     "data": {
      "text/plain": [
       "array([1.8997909 , 3.13308414])"
      ]
     },
     "execution_count": 41,
     "metadata": {},
     "output_type": "execute_result"
    }
   ],
   "source": [
    "nq_race_class_dis[race_beeter_idx[5792]]"
   ]
  },
  {
   "cell_type": "code",
   "execution_count": 28,
   "metadata": {},
   "outputs": [
    {
     "data": {
      "text/plain": [
       "\"[CLS] During play, a team consists of six players : a goaltender and five ` ` runners''. A runner is any non - goalkeeper position player, including forwards, transition players, and defenders. Runners usually specialize in one of these roles and substitute off the field when the ball moves from one end to the other. When the sport originated teams played with six runners. However, in 1953 the sixth runner, a position called rover, was eliminated. The goalkeeper can be replaced by another runner, often when a delayed penalty has been called on the other team or at the end of games by teams that are behind to help score goals. [SEP] six [SEP]\""
      ]
     },
     "execution_count": 28,
     "metadata": {},
     "output_type": "execute_result"
    }
   ],
   "source": [
    "dnq_ds[race_beeter_idx[1]]['src']"
   ]
  },
  {
   "cell_type": "code",
   "execution_count": 31,
   "metadata": {},
   "outputs": [
    {
     "data": {
      "text/plain": [
       "3.1840374384517673"
      ]
     },
     "execution_count": 31,
     "metadata": {},
     "output_type": "execute_result"
    }
   ],
   "source": [
    "np.sort(nq_race_kmeans_dis)[10000]"
   ]
  },
  {
   "cell_type": "code",
   "execution_count": 42,
   "metadata": {},
   "outputs": [
    {
     "data": {
      "text/plain": [
       "\"[CLS] To expand the number of women smokers Hill decided to hire Edward Bernays, who today is known as the father of public relations, to help him recruit women smokers. Bernays decided to attempt to eliminate the social taboo against women smoking in public. He gained advice from psychoanalyst A. A. Brill, who stated that it was normal for women to smoke because of oral fixation and said, ` ` Today the emancipation of women has suppressed many of their feminine desires. More women now do the same work as men do. Many women bear no children ; those who do bear have fewer children. Feminine traits are masked. Cigarettes, which are equated with men, become torches of freedom.'' In 1929 Bernays decided to pay women to smoke their ` ` torches of freedom'' as they walked in the Easter Sunday Parade in New York. This was a shock because until that time, women were only permitted to smoke in certain places such as in the privacy of their own homes. He was very careful when picking women to march because ` ` while they should be good looking, they should not look too model - y'' and he hired his own photographers to make sure that good pictures were taken and then published around the world. Feminist Ruth Hale also called for women to join in the march saying, ` ` Women! Light another torch of freedom! Fight another sex taboo!'' Once the footage was released, the campaign was being talked about everywhere, the women's walk was seen as a protest for equality and sparked discussion throughout the nation and is still known today. The targeting of women in tobacco advertising led to higher rates of smoking among women. In 1923 women only purchased 5 % of cigarettes sold, in 1929 that percentage increased to 12 %, in 1935 to 18. 1 %, peaking in 1965 at 33. 3 %, and remaining at this level until 1977. [SEP] Edward Bernays [SEP]\""
      ]
     },
     "execution_count": 42,
     "metadata": {},
     "output_type": "execute_result"
    }
   ],
   "source": [
    "dnq_ds[race_beeter_idx[5792]]['src']"
   ]
  },
  {
   "cell_type": "code",
   "execution_count": 51,
   "metadata": {},
   "outputs": [],
   "source": [
    "method='avg'"
   ]
  },
  {
   "cell_type": "code",
   "execution_count": 179,
   "metadata": {},
   "outputs": [],
   "source": [
    "nq_race = torch.load(\"results_NQ-RACE.pt\")"
   ]
  },
  {
   "cell_type": "code",
   "execution_count": 145,
   "metadata": {},
   "outputs": [],
   "source": [
    "nq_nq_cosine_distance = nq_race['avg']['gmm']['nq_center_cosine_distance'][:89453]\n",
    "nq_race_cosine_distance = nq_race['avg']['gmm']['other_center_cosine_distance'][:89453]"
   ]
  },
  {
   "cell_type": "code",
   "execution_count": 146,
   "metadata": {},
   "outputs": [
    {
     "data": {
      "image/png": "[encoded data removed]",
      "text/plain": [
       "<Figure size 432x288 with 1 Axes>"
      ]
     },
     "metadata": {
      "needs_background": "light"
     },
     "output_type": "display_data"
    }
   ],
   "source": [
    "plt.hist(nq_race_cosine_distance)\n",
    "plt.show()"
   ]
  },
  {
   "cell_type": "code",
   "execution_count": 147,
   "metadata": {},
   "outputs": [
    {
     "data": {
      "image/png": "[encoded data removed]",
      "text/plain": [
       "<Figure size 432x288 with 1 Axes>"
      ]
     },
     "metadata": {
      "needs_background": "light"
     },
     "output_type": "display_data"
    }
   ],
   "source": [
    "plt.hist(nq_nq_cosine_distance, alpha=0.6, label='NQ-NQ', color='g')\n",
    "plt.hist(nq_race_cosine_distance , alpha=0.3, label='NQ-RACE', color='blue')\n",
    "plt.legend()\n",
    "plt.tight_layout()\n",
    "plt.savefig(\"NQ-RACE-GMM-Center-Cosine-Distance-Distribution.pdf\", dpi=600, bbox_inches='tight')\n",
    "plt.show()"
   ]
  },
  {
   "cell_type": "code",
   "execution_count": 125,
   "metadata": {},
   "outputs": [],
   "source": [
    "nq_race_cosine_idx = np.argsort(nq_race_cosine_distance)"
   ]
  },
  {
   "cell_type": "code",
   "execution_count": 126,
   "metadata": {},
   "outputs": [
    {
     "data": {
      "text/plain": [
       "2.1201777729007674"
      ]
     },
     "execution_count": 126,
     "metadata": {},
     "output_type": "execute_result"
    }
   ],
   "source": [
    "nq_race_cosine_distance[nq_race_cosine_idx[-1]]"
   ]
  },
  {
   "cell_type": "code",
   "execution_count": null,
   "metadata": {},
   "outputs": [],
   "source": [
    "print(nq_ds[nq_race_cosine_idx[0]])"
   ]
  },
  {
   "cell_type": "code",
   "execution_count": 129,
   "metadata": {},
   "outputs": [
    {
     "name": "stdout",
     "output_type": "stream",
     "text": [
      "[CLS] In 1998, Linda M. Hooper, principal of Whitwell Middle School in Whitwell, Tennessee, asked Assistant Principal David Smith to find a voluntary after - school project to teach the children about tolerance. David Smith and Sandra Roberts started a Holocaust education program and held the first class in the fall of 1998. Soon the students were overwhelmed with the massive scale of the Holocaust and asked Mrs. Hooper if they could collect something to represent the lives that were exterminated during the Holocaust. Mrs. Hooper responded that they could if they could find something that related to the Holocaust or to World War II. Through Internet research, the students discovered that Johan Vaaler, a Norwegian, designed a loop of metal, and the Norwegians wore paperclips on their lapels during World War II as a silent protest against Nazi occupation. The students decided to collect 6, 000, 000 paper clips to represent the estimated 6, 000, 000 Jews killed between 1939 and 1945 under the authority of the Nazi government of Adolf Hitler. [SEP] a silent protest against Nazi occupation [SEP] -0.6468150787748619\n"
     ]
    }
   ],
   "source": [
    "print(dnq_ds[nq_race_cosine_idx[0]]['src'], nq_race_cosine_distance[nq_race_cosine_idx[0]])"
   ]
  },
  {
   "cell_type": "code",
   "execution_count": 130,
   "metadata": {},
   "outputs": [],
   "source": [
    "for i in range(0, 10000, 1000):\n",
    "    e = min(i+1000, len(nq_ds))\n",
    "    f = open(f\"../../data/nq/race_gmm_cosine_order/{e}.jsonl\", \"w\")\n",
    "    for j in range(0, e):\n",
    "        line = nq_ds[nq_race_cosine_idx[j]]\n",
    "        item = json.loads(line)\n",
    "        item['race_dis'] =  nq_race_cosine_distance[nq_race_cosine_idx[j]]\n",
    "        f.write(json.dumps(item))\n",
    "        f.write('\\n')\n",
    "    f.close()\n"
   ]
  },
  {
   "cell_type": "code",
   "execution_count": null,
   "metadata": {},
   "outputs": [],
   "source": [
    "print(dnq_ds[np.argsort(nq_race_kmeans_dis)[0]]['src'])"
   ]
  },
  {
   "cell_type": "code",
   "execution_count": 131,
   "metadata": {},
   "outputs": [
    {
     "data": {
      "text/plain": [
       "dict_keys(['centers', 'cluster_metrics', 'metrics', 'distances', 'corpus_idx', 'cluster_label_map'])"
      ]
     },
     "execution_count": 131,
     "metadata": {},
     "output_type": "execute_result"
    }
   ],
   "source": [
    "nq_race['avg']['kmeans'].keys()"
   ]
  },
  {
   "cell_type": "code",
   "execution_count": 151,
   "metadata": {},
   "outputs": [
    {
     "data": {
      "text/plain": [
       "{0: 'RACE', 1: 'NQ'}"
      ]
     },
     "execution_count": 151,
     "metadata": {},
     "output_type": "execute_result"
    }
   ],
   "source": [
    "nq_race['avg']['kmeans']['cluster_label_map']"
   ]
  },
  {
   "cell_type": "code",
   "execution_count": 148,
   "metadata": {},
   "outputs": [],
   "source": [
    "nq_nq_kmeans_distance = nq_race['avg']['kmeans']['distances'][:89453]\n",
    "nq_race_kmeans_distance = nq_race['avg']['kmeans']['distances'][:89453]"
   ]
  },
  {
   "cell_type": "code",
   "execution_count": 149,
   "metadata": {},
   "outputs": [
    {
     "data": {
      "text/plain": [
       "array([4.22712766, 4.33233359])"
      ]
     },
     "execution_count": 149,
     "metadata": {},
     "output_type": "execute_result"
    }
   ],
   "source": [
    "nq_nq_kmeans_distance[0]"
   ]
  },
  {
   "cell_type": "code",
   "execution_count": 157,
   "metadata": {},
   "outputs": [
    {
     "data": {
      "image/png": "[encoded data removed]",
      "text/plain": [
       "<Figure size 432x288 with 1 Axes>"
      ]
     },
     "metadata": {
      "needs_background": "light"
     },
     "output_type": "display_data"
    }
   ],
   "source": [
    "cluster_label_map = nq_race['avg']['kmeans']['cluster_label_map']\n",
    "cluster_label_map = {v:k for k,v in cluster_label_map.items()}\n",
    "plt.hist(nq_nq_kmeans_distance[:, cluster_label_map['NQ']], alpha=0.6, label='NQ-NQ', color='g')\n",
    "plt.hist(nq_race_kmeans_distance[:, cluster_label_map['RACE']] , alpha=0.3, label='NQ-RACE', color='blue')\n",
    "plt.legend()\n",
    "plt.tight_layout()\n",
    "plt.savefig(\"NQ-RACE-Kmeans-Center-L2-Distance-Distribution.pdf\", dpi=600, bbox_inches='tight')\n",
    "plt.show()"
   ]
  },
  {
   "cell_type": "code",
   "execution_count": 158,
   "metadata": {},
   "outputs": [],
   "source": [
    "nq_race_kmeans_dis = nq_race_kmeans_distance[:, cluster_label_map['RACE']]\n",
    "nq_race_kmeans_idx = np.argsort(nq_race_kmeans_dis)\n",
    "for i in range(0, 10000, 1000):\n",
    "    e = min(i+1000, len(nq_ds))\n",
    "    f = open(f\"../../data/nq/race_kmeans_l2_order/{e}.jsonl\", \"w\")\n",
    "    for j in range(0, e):\n",
    "        line = nq_ds[nq_race_kmeans_idx[j]]\n",
    "        item = json.loads(line)\n",
    "        item['race_dis'] =  nq_race_kmeans_dis[nq_race_kmeans_idx[j]]\n",
    "        f.write(json.dumps(item))\n",
    "        f.write('\\n')\n",
    "    f.close()\n"
   ]
  },
  {
   "cell_type": "code",
   "execution_count": 162,
   "metadata": {},
   "outputs": [
    {
     "name": "stdout",
     "output_type": "stream",
     "text": [
      "[CLS] A man named Bailey intends to take his family from Georgia to Florida for a summer vacation, but his mother, ( referred to as ` ` the grandmother'' in the story ) wants him to drive to East Tennessee, where the grandmother has friends ( ` ` connections'' ). She argues that his children, John Wesley and June Star, have never been to East Tennessee, and she shows him a news article in the Atlanta Journal Constitution about an escaped murderer who calls himself The Misfit last seen in Florida. The next day, the grandmother wakes up early to hide her cat, Pitty Sing, in a basket on the floor in the back of the car. She is worried that the cat would die while they were gone. Bailey finds her sitting in the car, dressed in her best clothes and an ostentatious hat ; she says that if she should die in an accident along the road, she wants people to see her corpse and know she was refined and ` ` a lady.'' The Grandmother talks continuously during the trip, trying to engage her two rude grandchildren in games and telling them jokes and a story, about which June Star makes disdainful comments. She recalls her youth in the Old South, reminiscing about her courtships and how much better everything was in her time, when children were respectful and people ` ` did right then.'' When the family stops at an old diner outside of Timothy for lunch, she talks to the owner, Red Sammy, about The Misfit. He and the grandmother agree that things were much better in the past and that the world at present is degenerate ; she concurs with Sammy's remark that ` ` a good man is hard to find.'' [SEP] his mother, ( referred to as ` ` the grandmother'' in the story ) [SEP] 2.531991146960145\n"
     ]
    }
   ],
   "source": [
    "print(dnq_ds[nq_race_kmeans_idx[1]]['src'], nq_race_kmeans_dis[nq_race_kmeans_idx[1]])"
   ]
  },
  {
   "cell_type": "code",
   "execution_count": 143,
   "metadata": {},
   "outputs": [
    {
     "data": {
      "text/plain": [
       "{'accuracy': 0.9635963207669387,\n",
       " 'f1': 0.9000304940028461,\n",
       " 'precision': 0.8538984521915233,\n",
       " 'recall': 0.9514317949820018}"
      ]
     },
     "execution_count": 143,
     "metadata": {},
     "output_type": "execute_result"
    }
   ],
   "source": [
    "nq_race['all']['gmm']['metrics']"
   ]
  },
  {
   "cell_type": "code",
   "execution_count": 154,
   "metadata": {},
   "outputs": [],
   "source": [
    "nq_nq_gmm_distance = nq_race['avg']['gmm']['nq_center_l2_distance'][:89453]\n",
    "nq_race_gmm_distance = nq_race['avg']['gmm']['other_center_l2_distance'][:89453]"
   ]
  },
  {
   "cell_type": "code",
   "execution_count": 155,
   "metadata": {},
   "outputs": [
    {
     "data": {
      "image/png": "[encoded data removed]",
      "text/plain": [
       "<Figure size 432x288 with 1 Axes>"
      ]
     },
     "metadata": {
      "needs_background": "light"
     },
     "output_type": "display_data"
    }
   ],
   "source": [
    "plt.hist(nq_nq_gmm_distance, alpha=0.6, label='NQ-NQ', color='g')\n",
    "plt.hist(nq_race_gmm_distance, alpha=0.3, label='NQ-RACE', color='blue')\n",
    "plt.legend()\n",
    "plt.tight_layout()\n",
    "plt.savefig(\"NQ-RACE-GMM-Center-L2-Distance-Distribution.pdf\", dpi=600, bbox_inches='tight')\n",
    "plt.show()"
   ]
  },
  {
   "cell_type": "code",
   "execution_count": 243,
   "metadata": {},
   "outputs": [],
   "source": [
    "nq_sciq = torch.load(\"results_NQ-SciQ.pt\")"
   ]
  },
  {
   "cell_type": "code",
   "execution_count": 244,
   "metadata": {},
   "outputs": [],
   "source": [
    "nq_nq_gmm_distance = nq_sciq['avg']['gmm']['nq_center_l2_distance'][:89453]\n",
    "nq_sciq_gmm_distance = nq_sciq['avg']['gmm']['other_center_l2_distance'][:89453]"
   ]
  },
  {
   "cell_type": "code",
   "execution_count": 173,
   "metadata": {},
   "outputs": [
    {
     "data": {
      "text/plain": [
       "'There are limits to electrophoretic techniques . Since passing current through a gel causes heating , gels may melt during electrophoresis . Electrophoresis is performed in buffer solutions     to reduce pH changes due to the electric field   , which is important because the charge of DNA and RNA depends on pH , but running for too long can exhaust the buffering capacity of the solution . There are also limitations in determining the molecular weight by SDS - PAGE , especially if you are trying to find the MW of an unknown protein . There are certain biological variables that are difficult or impossible to minimize and can affect the electrophoretic migration . Such factors include protein structure , post - translational modifications , and amino acid composition . For example , tropomyosin is an acidic protein that migrates abnormally on SDS - PAGE gels . This is because the acidic residues are repelled by the negatively charged SDS , leading to an inaccurate mass - to - charge ratio and migration . Further , different preparations of genetic material may not migrate consistently with each other , for morphological or other reasons .'"
      ]
     },
     "execution_count": 173,
     "metadata": {},
     "output_type": "execute_result"
    }
   ],
   "source": [
    "' '.join(dnq_ds[np.argsort(nq_sciq_gmm_distance)[0]]['text'])"
   ]
  },
  {
   "cell_type": "code",
   "execution_count": 174,
   "metadata": {},
   "outputs": [],
   "source": [
    "nq_sciq_kmeans_idx = np.argsort(nq_sciq_gmm_distance)\n",
    "for i in range(0, 10000, 1000):\n",
    "    e = min(i+1000, len(nq_ds))\n",
    "    f = open(f\"../../data/nq/sciq_gmm_l2/{e}.jsonl\", \"w\")\n",
    "    for j in range(0, e):\n",
    "        line = nq_ds[nq_sciq_kmeans_idx[j]]\n",
    "        item = json.loads(line)\n",
    "        item['race_dis'] =  nq_sciq_gmm_distance[nq_sciq_kmeans_idx[j]]\n",
    "        f.write(json.dumps(item))\n",
    "        f.write('\\n')\n",
    "    f.close()\n"
   ]
  },
  {
   "cell_type": "code",
   "execution_count": 176,
   "metadata": {},
   "outputs": [],
   "source": [
    "nq_sciq_kmeans_distance = nq_sciq['avg']['kmeans']['distances'][:89453]\n",
    "cluster_label_map = nq_sciq['avg']['kmeans']['cluster_label_map']\n",
    "cluster_label_map = {v:k for k,v in cluster_label_map.items()}"
   ]
  },
  {
   "cell_type": "code",
   "execution_count": 178,
   "metadata": {},
   "outputs": [],
   "source": [
    "nq_sciq_kmeans_dis = nq_sciq_kmeans_distance[:, cluster_label_map['SciQ']]\n",
    "nq_sciq_kmeans_idx = np.argsort(nq_sciq_kmeans_dis)\n",
    "for i in range(0, 10000, 1000):\n",
    "    e = min(i+1000, len(nq_ds))\n",
    "    f = open(f\"../../data/nq/sciq_kmeans_l2/{e}.jsonl\", \"w\")\n",
    "    for j in range(0, e):\n",
    "        line = nq_ds[nq_sciq_kmeans_idx[j]]\n",
    "        item = json.loads(line)\n",
    "        item['race_dis'] =  nq_sciq_kmeans_dis[nq_sciq_kmeans_idx[j]]\n",
    "        f.write(json.dumps(item))\n",
    "        f.write('\\n')\n",
    "    f.close()\n"
   ]
  },
  {
   "cell_type": "code",
   "execution_count": 177,
   "metadata": {},
   "outputs": [
    {
     "data": {
      "text/plain": [
       "{'NQ': 0, 'SciQ': 1}"
      ]
     },
     "execution_count": 177,
     "metadata": {},
     "output_type": "execute_result"
    }
   ],
   "source": [
    "cluster_label_map"
   ]
  },
  {
   "cell_type": "code",
   "execution_count": 4,
   "metadata": {},
   "outputs": [],
   "source": [
    "def ans_type_recog(item):\n",
    "    ent_types = {'': 0,\n",
    "        'PERSON': 1,\n",
    "        'ORG': 2,\n",
    "        'CARDINAL': 3,\n",
    "        'WORK_OF_ART': 4,\n",
    "        'ORDINAL': 5,\n",
    "        'DATE': 6,\n",
    "        'NORP': 7,\n",
    "        'GPE': 8,\n",
    "        'LOC': 9,\n",
    "        'FAC': 10,\n",
    "        'LANGUAGE': 11,\n",
    "        'PRODUCT': 12,\n",
    "        'LAW': 13,\n",
    "        'MONEY': 14,\n",
    "        'TIME': 15,\n",
    "        'QUANTITY': 16,\n",
    "        'EVENT': 17,\n",
    "        'PERCENT': 18\n",
    "        }\n",
    "\n",
    "    _time = ['DATE', 'TIME', 'EVENT']\n",
    "    _location = ['NORP', 'GPE', 'LOC', 'FAC']\n",
    "    _noun = ['LANGUAGE', 'PRODUCT', 'LAW', 'WORK_OF_ART' ]\n",
    "    _number = ['MONEY', 'QUANTITY', 'CARDINAL', 'ORDINAL', 'PERCENT']\n",
    "    _person = ['ORG', 'PERSON']\n",
    "    \n",
    "    ans_ner = item['ans_ner']\n",
    "    ans_pos = item['ans_pos']\n",
    "\n",
    "    ans_types = {}\n",
    "\n",
    "    for pos, ner in zip(ans_pos, ans_ner):\n",
    "        ans_type = 'noun' #'other'\n",
    "        if pos in ['PUNCT', 'DET', 'PART', 'DEP', 'ADP']:\n",
    "            continue\n",
    "        if ner in _time:\n",
    "            ans_type = 'time'\n",
    "            \n",
    "        elif ner in _location:\n",
    "            ans_type = 'location'\n",
    "        elif ner in _number:\n",
    "            ans_type = 'numeric'\n",
    "        elif ner in _person:\n",
    "            ans_type = 'person'\n",
    "        elif ner in _noun:\n",
    "            ans_type = 'noun'\n",
    "        elif pos in ['PROPN', 'NOUN', 'PART']:\n",
    "            ans_type = 'noun'\n",
    "        elif pos in ['VERB']:\n",
    "            ans_type = 'verb'\n",
    "        elif pos in ['ADJ']:\n",
    "            ans_type = 'adjective'\n",
    "        elif pos in ['ADV']:\n",
    "            if 'verb' in ans_types:\n",
    "                continue\n",
    "            elif 'adjective' in ans_types:\n",
    "                continue\n",
    "        elif ner == '':\n",
    "            if pos in ['NUM']:\n",
    "                ans_type = 'numeric'\n",
    "            elif pos in ['ADV']:\n",
    "                ans_type = 'adjective'\n",
    "            else:\n",
    "                ans_type = 'noun'\n",
    "\n",
    "        ans_types[ans_type] = ans_types.get(ans_type, 0) + 1\n",
    "        \n",
    "    ans_type = 'noun'\n",
    "    types = list(ans_types.keys())\n",
    "    if len(ans_pos) > 5 or ('noun' in ans_types and 'verb' in ans_types  ):\n",
    "        ans_type = 'clause'\n",
    "    elif len(types) == 1:\n",
    "        ans_type = types[0]\n",
    "    elif 'adjective' in ans_types and 'noun' in ans_types and 'verb' not in ans_types:\n",
    "        ans_type = 'noun'\n",
    "    elif 'time' in ans_types:\n",
    "        ans_type = 'time'\n",
    "    elif 'location' in ans_types:\n",
    "        ans_type = 'location'\n",
    "    elif 'numeric' in ans_types:\n",
    "        ans_type = 'numeric'\n",
    "    elif 'person' in ans_types:\n",
    "        ans_type = 'person'\n",
    "    elif 'noun' in ans_types:\n",
    "        ans_type = 'noun'\n",
    "    elif 'verb' in ans_types:\n",
    "        ans_type = 'verb'\n",
    "    return ans_type\n",
    "\n"
   ]
  },
  {
   "cell_type": "code",
   "execution_count": 5,
   "metadata": {},
   "outputs": [],
   "source": [
    "NQ_Answer_Types = [ans_type_recog(_) for _ in dnq_ds ]\n",
    "RACE_Answer_Types = [ans_type_recog(_) for _ in drace_ds ]\n",
    "SCIQ_Answer_Types = [ans_type_recog(_) for _ in dsciq_ds ]"
   ]
  },
  {
   "cell_type": "code",
   "execution_count": 6,
   "metadata": {},
   "outputs": [
    {
     "data": {
      "text/plain": [
       "'location'"
      ]
     },
     "execution_count": 6,
     "metadata": {},
     "output_type": "execute_result"
    }
   ],
   "source": [
    "NQ_Answer_Types[7]"
   ]
  },
  {
   "cell_type": "code",
   "execution_count": 199,
   "metadata": {},
   "outputs": [
    {
     "data": {
      "text/plain": [
       "(array([20139., 26777., 14788.,     0.,  7257.,  4760.,     0., 14378.,\n",
       "          716.,   638.]),\n",
       " array([0. , 0.7, 1.4, 2.1, 2.8, 3.5, 4.2, 4.9, 5.6, 6.3, 7. ]),\n",
       " <BarContainer object of 10 artists>)"
      ]
     },
     "execution_count": 199,
     "metadata": {},
     "output_type": "execute_result"
    },
    {
     "data": {
      "image/png": "[encoded data removed]",
      "text/plain": [
       "<Figure size 432x288 with 1 Axes>"
      ]
     },
     "metadata": {
      "needs_background": "light"
     },
     "output_type": "display_data"
    }
   ],
   "source": [
    "plt.hist(NQ_Answer_Types)"
   ]
  },
  {
   "cell_type": "code",
   "execution_count": 200,
   "metadata": {},
   "outputs": [
    {
     "data": {
      "text/plain": [
       "(array([ 1335., 11414.,   644.,     0.,   430.,  3388.,     0.,   805.,\n",
       "          424.,   173.]),\n",
       " array([0. , 0.7, 1.4, 2.1, 2.8, 3.5, 4.2, 4.9, 5.6, 6.3, 7. ]),\n",
       " <BarContainer object of 10 artists>)"
      ]
     },
     "execution_count": 200,
     "metadata": {},
     "output_type": "execute_result"
    },
    {
     "data": {
      "image/png": "[encoded data removed]",
      "text/plain": [
       "<Figure size 432x288 with 1 Axes>"
      ]
     },
     "metadata": {
      "needs_background": "light"
     },
     "output_type": "display_data"
    }
   ],
   "source": [
    "plt.hist(RACE_Answer_Types)"
   ]
  },
  {
   "cell_type": "code",
   "execution_count": 201,
   "metadata": {},
   "outputs": [
    {
     "data": {
      "text/plain": [
       "(array([ 377.,  510.,  779.,    0., 8927.,  677.,    0.,  289.,   57.,\n",
       "          63.]),\n",
       " array([0. , 0.7, 1.4, 2.1, 2.8, 3.5, 4.2, 4.9, 5.6, 6.3, 7. ]),\n",
       " <BarContainer object of 10 artists>)"
      ]
     },
     "execution_count": 201,
     "metadata": {},
     "output_type": "execute_result"
    },
    {
     "data": {
      "image/png": "[encoded data removed]",
      "text/plain": [
       "<Figure size 432x288 with 1 Axes>"
      ]
     },
     "metadata": {
      "needs_background": "light"
     },
     "output_type": "display_data"
    }
   ],
   "source": [
    "plt.hist(SCIQ_Answer_Types)"
   ]
  },
  {
   "cell_type": "code",
   "execution_count": 7,
   "metadata": {},
   "outputs": [],
   "source": [
    "sciq_ans_distribution = {}\n",
    "for ans in SCIQ_Answer_Types:\n",
    "    sciq_ans_distribution[ans] = sciq_ans_distribution.get(ans, 0) + 1\n",
    "race_ans_distribution = {}    \n",
    "for ans in RACE_Answer_Types:\n",
    "    race_ans_distribution[ans] = race_ans_distribution.get(ans, 0) + 1\n",
    "for k, v in sciq_ans_distribution.items():\n",
    "    sciq_ans_distribution[k] = v / float(len(SCIQ_Answer_Types))\n",
    "for k, v in race_ans_distribution.items():\n",
    "    race_ans_distribution[k] = v / float(len(RACE_Answer_Types))"
   ]
  },
  {
   "cell_type": "code",
   "execution_count": 8,
   "metadata": {},
   "outputs": [
    {
     "data": {
      "text/plain": [
       "{'person': 0.03228016097268602,\n",
       " 'clause': 0.043668122270742356,\n",
       " 'adjective': 0.06670091617433,\n",
       " 'noun': 0.7643633872763079,\n",
       " 'verb': 0.05796729172018152,\n",
       " 'numeric': 0.024745269286754003,\n",
       " 'time': 0.004880554842024146,\n",
       " 'location': 0.005394297456974056}"
      ]
     },
     "execution_count": 8,
     "metadata": {},
     "output_type": "execute_result"
    }
   ],
   "source": [
    "sciq_ans_distribution"
   ]
  },
  {
   "cell_type": "code",
   "execution_count": 9,
   "metadata": {},
   "outputs": [],
   "source": [
    "nq_sciq = torch.load(\"results_NQ-SciQ.pt\")\n",
    "nq_sciq_gmm_distance = nq_sciq['avg']['gmm']['other_center_l2_distance'][:89453]\n",
    "nq_sciq_gmm_idx = np.argsort(nq_sciq_gmm_distance)"
   ]
  },
  {
   "cell_type": "code",
   "execution_count": 12,
   "metadata": {},
   "outputs": [
    {
     "name": "stdout",
     "output_type": "stream",
     "text": [
      "{'NQ': 1}\n"
     ]
    }
   ],
   "source": [
    "print(cluster_label_map)"
   ]
  },
  {
   "cell_type": "code",
   "execution_count": 11,
   "metadata": {},
   "outputs": [
    {
     "ename": "KeyError",
     "evalue": "'SciQ'",
     "output_type": "error",
     "traceback": [
      "\u001b[0;31m---------------------------------------------------------------------------\u001b[0m",
      "\u001b[0;31mKeyError\u001b[0m                                  Traceback (most recent call last)",
      "\u001b[0;32m<ipython-input-11-e4c45c2e4afc>\u001b[0m in \u001b[0;36m<module>\u001b[0;34m\u001b[0m\n\u001b[1;32m      2\u001b[0m \u001b[0mcluster_label_map\u001b[0m \u001b[0;34m=\u001b[0m \u001b[0mnq_sciq\u001b[0m\u001b[0;34m[\u001b[0m\u001b[0;34m'avg'\u001b[0m\u001b[0;34m]\u001b[0m\u001b[0;34m[\u001b[0m\u001b[0;34m'kmeans'\u001b[0m\u001b[0;34m]\u001b[0m\u001b[0;34m[\u001b[0m\u001b[0;34m'cluster_label_map'\u001b[0m\u001b[0;34m]\u001b[0m\u001b[0;34m\u001b[0m\u001b[0;34m\u001b[0m\u001b[0m\n\u001b[1;32m      3\u001b[0m \u001b[0mcluster_label_map\u001b[0m \u001b[0;34m=\u001b[0m \u001b[0;34m{\u001b[0m\u001b[0mv\u001b[0m\u001b[0;34m:\u001b[0m\u001b[0mk\u001b[0m \u001b[0;32mfor\u001b[0m \u001b[0mk\u001b[0m\u001b[0;34m,\u001b[0m\u001b[0mv\u001b[0m \u001b[0;32min\u001b[0m \u001b[0mcluster_label_map\u001b[0m\u001b[0;34m.\u001b[0m\u001b[0mitems\u001b[0m\u001b[0;34m(\u001b[0m\u001b[0;34m)\u001b[0m\u001b[0;34m}\u001b[0m\u001b[0;34m\u001b[0m\u001b[0;34m\u001b[0m\u001b[0m\n\u001b[0;32m----> 4\u001b[0;31m \u001b[0mnq_sciq_kmeans_dis\u001b[0m \u001b[0;34m=\u001b[0m \u001b[0mnq_sciq_kmeans_distance\u001b[0m\u001b[0;34m[\u001b[0m\u001b[0;34m:\u001b[0m\u001b[0;34m,\u001b[0m \u001b[0mcluster_label_map\u001b[0m\u001b[0;34m[\u001b[0m\u001b[0;34m'SciQ'\u001b[0m\u001b[0;34m]\u001b[0m\u001b[0;34m]\u001b[0m\u001b[0;34m\u001b[0m\u001b[0;34m\u001b[0m\u001b[0m\n\u001b[0m\u001b[1;32m      5\u001b[0m \u001b[0mnq_sciq_kmeans_idx\u001b[0m \u001b[0;34m=\u001b[0m \u001b[0mnp\u001b[0m\u001b[0;34m.\u001b[0m\u001b[0margsort\u001b[0m\u001b[0;34m(\u001b[0m\u001b[0mnq_sciq_kmeans_dis\u001b[0m\u001b[0;34m)\u001b[0m\u001b[0;34m\u001b[0m\u001b[0;34m\u001b[0m\u001b[0m\n",
      "\u001b[0;31mKeyError\u001b[0m: 'SciQ'"
     ]
    }
   ],
   "source": [
    "nq_sciq_kmeans_distance = nq_sciq['avg']['kmeans']['distances'][:89453]\n",
    "cluster_label_map = nq_sciq['avg']['kmeans']['cluster_label_map']\n",
    "cluster_label_map = {v:k for k,v in cluster_label_map.items()}\n",
    "nq_sciq_kmeans_dis = nq_sciq_kmeans_distance[:, cluster_label_map['SciQ']]\n",
    "nq_sciq_kmeans_idx = np.argsort(nq_sciq_kmeans_dis)"
   ]
  },
  {
   "cell_type": "code",
   "execution_count": 212,
   "metadata": {},
   "outputs": [],
   "source": [
    "selected_idx = []\n",
    "for i in range(0, 10000, 1000):\n",
    "    e = min(i+1000, len(nq_ds))\n",
    "    f = open(f\"../../data/nq/sciq_gmm_l2_ans-aware/{e}.jsonl\", \"w\")\n",
    "    for anstype, dist in sciq_ans_distribution.items():\n",
    "        num = int(e * dist) + 1\n",
    "        for idx in nq_sciq_gmm_idx:\n",
    "            ans = ans_type_recog(dnq_ds[idx])\n",
    "            if ans == anstype and num > 0:\n",
    "                selected_idx.append(nq_ds[idx])\n",
    "                num -= 1\n",
    "            if num == 0:\n",
    "                break\n",
    "    for item in selected_idx[:e]:\n",
    "        f.write(json.dumps(item))\n",
    "        f.write('\\n')\n",
    "    f.close()\n"
   ]
  },
  {
   "cell_type": "code",
   "execution_count": 213,
   "metadata": {},
   "outputs": [],
   "source": [
    "selected_idx = []\n",
    "for i in range(0, 10000, 1000):\n",
    "    e = min(i+1000, len(nq_ds))\n",
    "    f = open(f\"../../data/nq/sciq_kmeans_l2_ans-aware/{e}.jsonl\", \"w\")\n",
    "    for anstype, dist in sciq_ans_distribution.items():\n",
    "        num = int(e * dist) + 1\n",
    "        for idx in nq_sciq_kmeans_idx:\n",
    "            ans = ans_type_recog(dnq_ds[idx])\n",
    "            if ans == anstype and num > 0:\n",
    "                selected_idx.append(nq_ds[idx])\n",
    "                num -= 1\n",
    "            if num == 0:\n",
    "                break\n",
    "    for item in selected_idx[:e]:\n",
    "        f.write(json.dumps(item))\n",
    "        f.write('\\n')\n",
    "    f.close()\n"
   ]
  },
  {
   "cell_type": "code",
   "execution_count": 214,
   "metadata": {},
   "outputs": [],
   "source": [
    "nq_race = torch.load(\"results_NQ-RACE.pt\")\n",
    "nq_race_gmm_distance = nq_race['avg']['gmm']['other_center_l2_distance'][:89453]\n",
    "nq_race_gmm_idx = np.argsort(nq_race_gmm_distance)\n",
    "nq_race_kmeans_distance = nq_race['avg']['kmeans']['distances'][:89453]\n",
    "cluster_label_map = nq_race['avg']['kmeans']['cluster_label_map']\n",
    "cluster_label_map = {v:k for k,v in cluster_label_map.items()}\n",
    "nq_race_kmeans_dis = nq_race_kmeans_distance[:, cluster_label_map['RACE']]\n",
    "nq_race_kmeans_idx = np.argsort(nq_race_kmeans_dis)"
   ]
  },
  {
   "cell_type": "code",
   "execution_count": 215,
   "metadata": {},
   "outputs": [],
   "source": [
    "selected_idx = []\n",
    "for i in range(0, 10000, 1000):\n",
    "    e = min(i+1000, len(nq_ds))\n",
    "    f = open(f\"../../data/nq/race_gmm_l2_ans-aware/{e}.jsonl\", \"w\")\n",
    "    for anstype, dist in race_ans_distribution.items():\n",
    "        num = int(e * dist) + 1\n",
    "        for idx in nq_race_gmm_idx:\n",
    "            ans = ans_type_recog(dnq_ds[idx])\n",
    "            if ans == anstype and num > 0:\n",
    "                selected_idx.append(dnq_ds[idx])\n",
    "                num -= 1\n",
    "            if num == 0:\n",
    "                break\n",
    "    for item in selected_idx[:e]:\n",
    "        f.write(json.dumps(item))\n",
    "        f.write('\\n')\n",
    "    f.close()\n"
   ]
  },
  {
   "cell_type": "code",
   "execution_count": 216,
   "metadata": {},
   "outputs": [],
   "source": [
    "selected_idx = []\n",
    "for i in range(0, 10000, 1000):\n",
    "    e = min(i+1000, len(nq_ds))\n",
    "    f = open(f\"../../data/nq/race_kmeans_l2_ans-aware/{e}.jsonl\", \"w\")\n",
    "    for anstype, dist in race_ans_distribution.items():\n",
    "        num = int(e * dist) + 1\n",
    "        for idx in nq_race_kmeans_idx:\n",
    "            ans = ans_type_recog(dnq_ds[idx])\n",
    "            if ans == anstype and num > 0:\n",
    "                selected_idx.append(dnq_ds[idx])\n",
    "                num -= 1\n",
    "            if num == 0:\n",
    "                break\n",
    "    for item in selected_idx[:e]:\n",
    "        f.write(json.dumps(item))\n",
    "        f.write('\\n')\n",
    "    f.close()\n"
   ]
  },
  {
   "cell_type": "code",
   "execution_count": 218,
   "metadata": {},
   "outputs": [],
   "source": [
    "ds = [json.loads(_) for _ in open(\"../../data/nq/race_kmeans_l2_ans-aware/1000.jsonl\")]"
   ]
  },
  {
   "cell_type": "code",
   "execution_count": 227,
   "metadata": {},
   "outputs": [
    {
     "data": {
      "text/plain": [
       "\"[CLS] In Western culture, the finger or the middle finger ( as in giving someone the ( middle ) finger or the bird or flipping someone off ) is an obscene hand gesture. The gesture communicates moderate to extreme contempt, and is roughly equivalent in meaning to ` ` fuck off,'' ` ` fuck you,'' ` ` shove it up your ass,'' ` ` up yours,'' or ` ` go fuck yourself.'' It is performed by showing the back of a hand that has only the middle finger extended upwards, though in some locales, the thumb is extended. Extending the finger is considered a symbol of contempt in several cultures, especially in the West. Many cultures use similar gestures to display their disrespect, although others use it to express pointing without intentional disrespect toward other cultures. The gesture is usually used to express contempt but can also be used humorously or playfully. [SEP] communicates moderate to extreme contempt, and is roughly equivalent in meaning to ` ` fuck off,'' ` ` fuck you,'' ` ` shove it up your ass,'' ` ` up yours,'' or ` ` go fuck yourself.'' [SEP]\""
      ]
     },
     "execution_count": 227,
     "metadata": {},
     "output_type": "execute_result"
    }
   ],
   "source": [
    "ds[600]['src']"
   ]
  },
  {
   "cell_type": "code",
   "execution_count": 220,
   "metadata": {},
   "outputs": [],
   "source": [
    "ds2 = [json.loads(_) for _ in open(\"../../data/nq/race_gmm_l2_ans-aware/1000.jsonl\")]"
   ]
  },
  {
   "cell_type": "code",
   "execution_count": 226,
   "metadata": {},
   "outputs": [
    {
     "data": {
      "text/plain": [
       "\"[CLS] In the liner notes to the original release, Nat Hentoff calls the song ` ` a statement that maybe you can say to make yourself feel better... as if you were talking to yourself.'' It was written around the time that Suze Rotolo indefinitely prolonged her stay in Italy. The melody is based on the public domain traditional song ` ` Who's Gon na Buy Your Chickens When I'm Gone'' and was taught to Dylan by folksinger Paul Clayton, who had used it in his song ` ` Who's Gon na Buy You Ribbons When I'm Gone?'' [SEP] a statement that maybe you can say to make yourself feel better... as if you were talking to yourself [SEP]\""
      ]
     },
     "execution_count": 226,
     "metadata": {},
     "output_type": "execute_result"
    }
   ],
   "source": [
    "ds2[600]['src']"
   ]
  },
  {
   "cell_type": "code",
   "execution_count": 228,
   "metadata": {},
   "outputs": [],
   "source": [
    "sciq_select = [json.loads(_) for _ in open(\"../../data/nq/sciq_gmm_l2_ans-aware/1000.jsonl\")]\n",
    "sciq_select_types = [ans_type_recog(_) for _ in sciq_select]"
   ]
  },
  {
   "cell_type": "code",
   "execution_count": 229,
   "metadata": {},
   "outputs": [],
   "source": [
    "sciq_sel_dist = {}\n",
    "for ans in sciq_select_types:\n",
    "    sciq_sel_dist[ans] = sciq_sel_dist.get(ans, 0) + 1"
   ]
  },
  {
   "cell_type": "code",
   "execution_count": 230,
   "metadata": {},
   "outputs": [
    {
     "data": {
      "text/plain": [
       "{'person': 33,\n",
       " 'clause': 44,\n",
       " 'adjective': 67,\n",
       " 'noun': 765,\n",
       " 'verb': 58,\n",
       " 'numeric': 25,\n",
       " 'time': 5,\n",
       " 'location': 3}"
      ]
     },
     "execution_count": 230,
     "metadata": {},
     "output_type": "execute_result"
    }
   ],
   "source": [
    "sciq_sel_dist"
   ]
  },
  {
   "cell_type": "code",
   "execution_count": 242,
   "metadata": {},
   "outputs": [
    {
     "name": "stdout",
     "output_type": "stream",
     "text": [
      "['DET', 'NOUN', 'CCONJ', 'ADJ', 'NOUN']\n",
      "noun\n"
     ]
    }
   ],
   "source": [
    "print(sciq_select[800]['ans_pos'])\n",
    "print(sciq_select_types[800])"
   ]
  }
 ],
 "metadata": {
  "interpreter": {
   "hash": "31f2aee4e71d21fbe5cf8b01ff0e069b9275f58929596ceb00d14d90e3e16cd6"
  },
  "kernelspec": {
   "display_name": "Python 3.8.5 64-bit ('cogqg': conda)",
   "language": "python",
   "name": "python3"
  },
  "language_info": {
   "codemirror_mode": {
    "name": "ipython",
    "version": 3
   },
   "file_extension": ".py",
   "mimetype": "text/x-python",
   "name": "python",
   "nbconvert_exporter": "python",
   "pygments_lexer": "ipython3",
   "version": "3.8.5"
  },
  "orig_nbformat": 2
 },
 "nbformat": 4,
 "nbformat_minor": 2
}
